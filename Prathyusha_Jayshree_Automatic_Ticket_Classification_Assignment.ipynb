{
 "cells": [
  {
   "cell_type": "markdown",
   "metadata": {
    "id": "rhR-ZUkwJrFn"
   },
   "source": [
    "## Problem Statement \n",
    "\n",
    "You need to build a model that is able to classify customer complaints based on the products/services. By doing so, you can segregate these tickets into their relevant categories and, therefore, help in the quick resolution of the issue.\n",
    "\n",
    "You will be doing topic modelling on the <b>.json</b> data provided by the company. Since this data is not labelled, you need to apply NMF to analyse patterns and classify tickets into the following five clusters based on their products/services:\n",
    "\n",
    "* Credit card / Prepaid card\n",
    "\n",
    "* Bank account services\n",
    "\n",
    "* Theft/Dispute reporting\n",
    "\n",
    "* Mortgages/loans\n",
    "\n",
    "* Others \n",
    "\n",
    "\n",
    "With the help of topic modelling, you will be able to map each ticket onto its respective department/category. You can then use this data to train any supervised model such as logistic regression, decision tree or random forest. Using this trained model, you can classify any new customer complaint support ticket into its relevant department."
   ]
  },
  {
   "cell_type": "markdown",
   "metadata": {
    "id": "mcgXVNyaLUFS"
   },
   "source": [
    "## Pipelines that needs to be performed:\n",
    "\n",
    "You need to perform the following eight major tasks to complete the assignment:\n",
    "\n",
    "1.  Data loading\n",
    "\n",
    "2. Text preprocessing\n",
    "\n",
    "3. Exploratory data analysis (EDA)\n",
    "\n",
    "4. Feature extraction\n",
    "\n",
    "5. Topic modelling \n",
    "\n",
    "6. Model building using supervised learning\n",
    "\n",
    "7. Model training and evaluation\n",
    "\n",
    "8. Model inference"
   ]
  },
  {
   "cell_type": "markdown",
   "metadata": {
    "id": "JuLFIymAL58u"
   },
   "source": [
    "## Importing the necessary libraries"
   ]
  },
  {
   "cell_type": "code",
   "execution_count": 1,
   "metadata": {},
   "outputs": [],
   "source": [
    "#!pip install wordcloud"
   ]
  },
  {
   "cell_type": "code",
   "execution_count": 2,
   "metadata": {
    "id": "O-Q9pqrcJrFr"
   },
   "outputs": [],
   "source": [
    "import json \n",
    "import numpy as np\n",
    "import pandas as pd\n",
    "import re, nltk, spacy, string\n",
    "import en_core_web_sm\n",
    "nlp = en_core_web_sm.load()\n",
    "import seaborn as sns\n",
    "import matplotlib.pyplot as plt\n",
    "%matplotlib inline\n",
    "\n",
    "from plotly.offline import plot\n",
    "import plotly.graph_objects as go\n",
    "import plotly.express as px\n",
    "\n",
    "from sklearn.feature_extraction.text import CountVectorizer, TfidfVectorizer\n",
    "from pprint import pprint\n",
    "\n",
    "from wordcloud import WordCloud,STOPWORDS\n",
    "import matplotlib.pyplot as plt"
   ]
  },
  {
   "cell_type": "markdown",
   "metadata": {
    "id": "KtRLCsNVJrFt"
   },
   "source": [
    "## Loading the data\n",
    "\n",
    "The data is in JSON format and we need to convert it to a dataframe."
   ]
  },
  {
   "cell_type": "code",
   "execution_count": 3,
   "metadata": {
    "id": "puVzIf_iJrFt"
   },
   "outputs": [
    {
     "name": "stdout",
     "output_type": "stream",
     "text": [
      "                _index      _type      _id  _score   _source.tags  \\\n",
      "0  complaint-public-v2  complaint  3211475     0.0           None   \n",
      "1  complaint-public-v2  complaint  3229299     0.0  Servicemember   \n",
      "2  complaint-public-v2  complaint  3199379     0.0           None   \n",
      "3  complaint-public-v2  complaint  2673060     0.0           None   \n",
      "4  complaint-public-v2  complaint  3203545     0.0           None   \n",
      "\n",
      "  _source.zip_code _source.complaint_id                       _source.issue  \\\n",
      "0            90301              3211475   Attempts to collect debt not owed   \n",
      "1            319XX              3229299     Written notification about debt   \n",
      "2            77069              3199379  Other features, terms, or problems   \n",
      "3            48066              2673060      Trouble during payment process   \n",
      "4            10473              3203545                    Fees or interest   \n",
      "\n",
      "       _source.date_received _source.state  ... _source.company_response  \\\n",
      "0  2019-04-13T12:00:00-05:00            CA  ...  Closed with explanation   \n",
      "1  2019-05-01T12:00:00-05:00            GA  ...  Closed with explanation   \n",
      "2  2019-04-02T12:00:00-05:00            TX  ...  Closed with explanation   \n",
      "3  2017-09-13T12:00:00-05:00            MI  ...  Closed with explanation   \n",
      "4  2019-04-05T12:00:00-05:00            NY  ...  Closed with explanation   \n",
      "\n",
      "        _source.company _source.submitted_via _source.date_sent_to_company  \\\n",
      "0  JPMORGAN CHASE & CO.                   Web    2019-04-13T12:00:00-05:00   \n",
      "1  JPMORGAN CHASE & CO.                   Web    2019-05-01T12:00:00-05:00   \n",
      "2  JPMORGAN CHASE & CO.                   Web    2019-04-02T12:00:00-05:00   \n",
      "3  JPMORGAN CHASE & CO.                   Web    2017-09-14T12:00:00-05:00   \n",
      "4  JPMORGAN CHASE & CO.              Referral    2019-04-05T12:00:00-05:00   \n",
      "\n",
      "  _source.company_public_response                         _source.sub_product  \\\n",
      "0                            None                            Credit card debt   \n",
      "1                            None                            Credit card debt   \n",
      "2                            None  General-purpose credit card or charge card   \n",
      "3                            None                  Conventional home mortgage   \n",
      "4                            None  General-purpose credit card or charge card   \n",
      "\n",
      "  _source.timely                    _source.complaint_what_happened  \\\n",
      "0            Yes                                                      \n",
      "1            Yes  Good morning my name is XXXX XXXX and I apprec...   \n",
      "2            Yes  I upgraded my XXXX XXXX card in XX/XX/2018 and...   \n",
      "3            Yes                                                      \n",
      "4            Yes                                                      \n",
      "\n",
      "                                  _source.sub_issue  \\\n",
      "0                                 Debt is not yours   \n",
      "1  Didn't receive enough information to verify debt   \n",
      "2             Problem with rewards from credit card   \n",
      "3                                              None   \n",
      "4                         Charged too much interest   \n",
      "\n",
      "  _source.consumer_consent_provided  \n",
      "0              Consent not provided  \n",
      "1                  Consent provided  \n",
      "2                  Consent provided  \n",
      "3              Consent not provided  \n",
      "4                               N/A  \n",
      "\n",
      "[5 rows x 22 columns]\n"
     ]
    }
   ],
   "source": [
    "# Opening JSON file \n",
    "f = '/Users/I500955/Documents/PG/Semantic Processing/complaints-2021-05-14_08_16.json'\n",
    "  \n",
    "# returns JSON object as a dictionary \n",
    "with open(f) as json_file:\n",
    "    data = json.load(json_file)\n",
    "\n",
    "# Normalize JSON data and convert it into a DataFrame\n",
    "df = pd.json_normalize(data)\n",
    "\n",
    "print(df.head())"
   ]
  },
  {
   "cell_type": "markdown",
   "metadata": {
    "id": "_xYpH-sAJrFu"
   },
   "source": [
    "## Data preparation"
   ]
  },
  {
   "cell_type": "code",
   "execution_count": 4,
   "metadata": {},
   "outputs": [
    {
     "name": "stdout",
     "output_type": "stream",
     "text": [
      "(78313, 22)\n",
      "<class 'pandas.core.frame.DataFrame'>\n",
      "RangeIndex: 78313 entries, 0 to 78312\n",
      "Data columns (total 22 columns):\n",
      " #   Column                             Non-Null Count  Dtype  \n",
      "---  ------                             --------------  -----  \n",
      " 0   _index                             78313 non-null  object \n",
      " 1   _type                              78313 non-null  object \n",
      " 2   _id                                78313 non-null  object \n",
      " 3   _score                             78313 non-null  float64\n",
      " 4   _source.tags                       10900 non-null  object \n",
      " 5   _source.zip_code                   71556 non-null  object \n",
      " 6   _source.complaint_id               78313 non-null  object \n",
      " 7   _source.issue                      78313 non-null  object \n",
      " 8   _source.date_received              78313 non-null  object \n",
      " 9   _source.state                      76322 non-null  object \n",
      " 10  _source.consumer_disputed          78313 non-null  object \n",
      " 11  _source.product                    78313 non-null  object \n",
      " 12  _source.company_response           78313 non-null  object \n",
      " 13  _source.company                    78313 non-null  object \n",
      " 14  _source.submitted_via              78313 non-null  object \n",
      " 15  _source.date_sent_to_company       78313 non-null  object \n",
      " 16  _source.company_public_response    4 non-null      object \n",
      " 17  _source.sub_product                67742 non-null  object \n",
      " 18  _source.timely                     78313 non-null  object \n",
      " 19  _source.complaint_what_happened    78313 non-null  object \n",
      " 20  _source.sub_issue                  32016 non-null  object \n",
      " 21  _source.consumer_consent_provided  77305 non-null  object \n",
      "dtypes: float64(1), object(21)\n",
      "memory usage: 13.1+ MB\n",
      "None\n"
     ]
    }
   ],
   "source": [
    "# Inspect the dataframe to understand the given data.\n",
    "print(df.shape)\n",
    "print(df.info())"
   ]
  },
  {
   "cell_type": "code",
   "execution_count": 5,
   "metadata": {},
   "outputs": [
    {
     "name": "stdout",
     "output_type": "stream",
     "text": [
      "Loan modification,collection,foreclosure                                           9743\n",
      "Managing an account                                                                7410\n",
      "Loan servicing, payments, escrow account                                           5360\n",
      "Problem with a purchase shown on your statement                                    4055\n",
      "Account opening, closing, or management                                            3879\n",
      "                                                                                   ... \n",
      "Unable to get credit report/credit score                                              1\n",
      "Advertising, marketing or disclosures                                                 1\n",
      "Problem with an overdraft                                                             1\n",
      "Can't stop withdrawals from your bank account                                         1\n",
      "Money was taken from your bank account on the wrong day or for the wrong amount       1\n",
      "Name: _source.issue, Length: 154, dtype: int64\n"
     ]
    }
   ],
   "source": [
    "# Analyzing the distribution of complaints across different issues to identify \n",
    "# the most common issues reported by consumers\n",
    "print(df['_source.issue'].value_counts())"
   ]
  },
  {
   "cell_type": "code",
   "execution_count": 6,
   "metadata": {},
   "outputs": [
    {
     "name": "stdout",
     "output_type": "stream",
     "text": [
      "Mortgage                                                                        22725\n",
      "Checking or savings account                                                     12147\n",
      "Credit card or prepaid card                                                     10797\n",
      "Credit card                                                                     10373\n",
      "Bank account or service                                                          9816\n",
      "Credit reporting, credit repair services, or other personal consumer reports     4310\n",
      "Debt collection                                                                  3201\n",
      "Money transfer, virtual currency, or money service                               1500\n",
      "Consumer Loan                                                                    1029\n",
      "Vehicle loan or lease                                                             892\n",
      "Student loan                                                                      866\n",
      "Money transfers                                                                   228\n",
      "Credit reporting                                                                  192\n",
      "Payday loan, title loan, or personal loan                                         139\n",
      "Other financial service                                                            60\n",
      "Prepaid card                                                                       32\n",
      "Payday loan                                                                         6\n",
      "Name: _source.product, dtype: int64\n"
     ]
    }
   ],
   "source": [
    "product_counts = df['_source.product'].value_counts()\n",
    "print(product_counts)"
   ]
  },
  {
   "cell_type": "code",
   "execution_count": 7,
   "metadata": {
    "id": "Dwcty-wmJrFw"
   },
   "outputs": [
    {
     "name": "stdout",
     "output_type": "stream",
     "text": [
      "Index(['_index', '_type', '_id', '_score', '_source.tags', '_source.zip_code',\n",
      "       '_source.complaint_id', '_source.issue', '_source.date_received',\n",
      "       '_source.state', '_source.consumer_disputed', '_source.product',\n",
      "       '_source.company_response', '_source.company', '_source.submitted_via',\n",
      "       '_source.date_sent_to_company', '_source.company_public_response',\n",
      "       '_source.sub_product', '_source.timely',\n",
      "       '_source.complaint_what_happened', '_source.sub_issue',\n",
      "       '_source.consumer_consent_provided'],\n",
      "      dtype='object')\n"
     ]
    }
   ],
   "source": [
    "#print the column names\n",
    "print(df.columns)"
   ]
  },
  {
   "cell_type": "code",
   "execution_count": 8,
   "metadata": {
    "id": "FYCtKXD1JrFw"
   },
   "outputs": [
    {
     "name": "stdout",
     "output_type": "stream",
     "text": [
      "<class 'pandas.core.frame.DataFrame'>\n",
      "RangeIndex: 78313 entries, 0 to 78312\n",
      "Data columns (total 22 columns):\n",
      " #   Column                     Non-Null Count  Dtype  \n",
      "---  ------                     --------------  -----  \n",
      " 0   _index                     78313 non-null  object \n",
      " 1   _type                      78313 non-null  object \n",
      " 2   _id                        78313 non-null  object \n",
      " 3   _score                     78313 non-null  float64\n",
      " 4   tags                       10900 non-null  object \n",
      " 5   zip_code                   71556 non-null  object \n",
      " 6   complaint_id               78313 non-null  object \n",
      " 7   issue                      78313 non-null  object \n",
      " 8   date_received              78313 non-null  object \n",
      " 9   state                      76322 non-null  object \n",
      " 10  consumer_disputed          78313 non-null  object \n",
      " 11  product                    78313 non-null  object \n",
      " 12  company_response           78313 non-null  object \n",
      " 13  company                    78313 non-null  object \n",
      " 14  submitted_via              78313 non-null  object \n",
      " 15  date_sent_to_company       78313 non-null  object \n",
      " 16  company_public_response    4 non-null      object \n",
      " 17  sub_product                67742 non-null  object \n",
      " 18  timely                     78313 non-null  object \n",
      " 19  complaint                  78313 non-null  object \n",
      " 20  sub_issue                  32016 non-null  object \n",
      " 21  consumer_consent_provided  77305 non-null  object \n",
      "dtypes: float64(1), object(21)\n",
      "memory usage: 13.1+ MB\n",
      "None\n"
     ]
    }
   ],
   "source": [
    "#Assign new column names\n",
    "df = df.rename(columns=lambda x: x.replace('_source.', ''))\n",
    "df = df.rename(columns={'complaint_what_happened': 'complaint'})\n",
    "print(df.info())"
   ]
  },
  {
   "cell_type": "code",
   "execution_count": 9,
   "metadata": {
    "id": "grQUPFL5JrFx"
   },
   "outputs": [
    {
     "name": "stdout",
     "output_type": "stream",
     "text": [
      "                _index      _type      _id  _score           tags zip_code  \\\n",
      "0  complaint-public-v2  complaint  3211475     0.0           None    90301   \n",
      "1  complaint-public-v2  complaint  3229299     0.0  Servicemember    319XX   \n",
      "2  complaint-public-v2  complaint  3199379     0.0           None    77069   \n",
      "3  complaint-public-v2  complaint  2673060     0.0           None    48066   \n",
      "4  complaint-public-v2  complaint  3203545     0.0           None    10473   \n",
      "\n",
      "  complaint_id                               issue              date_received  \\\n",
      "0      3211475   Attempts to collect debt not owed  2019-04-13T12:00:00-05:00   \n",
      "1      3229299     Written notification about debt  2019-05-01T12:00:00-05:00   \n",
      "2      3199379  Other features, terms, or problems  2019-04-02T12:00:00-05:00   \n",
      "3      2673060      Trouble during payment process  2017-09-13T12:00:00-05:00   \n",
      "4      3203545                    Fees or interest  2019-04-05T12:00:00-05:00   \n",
      "\n",
      "  state  ...         company_response               company submitted_via  \\\n",
      "0    CA  ...  Closed with explanation  JPMORGAN CHASE & CO.           Web   \n",
      "1    GA  ...  Closed with explanation  JPMORGAN CHASE & CO.           Web   \n",
      "2    TX  ...  Closed with explanation  JPMORGAN CHASE & CO.           Web   \n",
      "3    MI  ...  Closed with explanation  JPMORGAN CHASE & CO.           Web   \n",
      "4    NY  ...  Closed with explanation  JPMORGAN CHASE & CO.      Referral   \n",
      "\n",
      "        date_sent_to_company company_public_response  \\\n",
      "0  2019-04-13T12:00:00-05:00                    None   \n",
      "1  2019-05-01T12:00:00-05:00                    None   \n",
      "2  2019-04-02T12:00:00-05:00                    None   \n",
      "3  2017-09-14T12:00:00-05:00                    None   \n",
      "4  2019-04-05T12:00:00-05:00                    None   \n",
      "\n",
      "                                  sub_product timely  \\\n",
      "0                            Credit card debt    Yes   \n",
      "1                            Credit card debt    Yes   \n",
      "2  General-purpose credit card or charge card    Yes   \n",
      "3                  Conventional home mortgage    Yes   \n",
      "4  General-purpose credit card or charge card    Yes   \n",
      "\n",
      "                                           complaint  \\\n",
      "0                                                NaN   \n",
      "1  Good morning my name is XXXX XXXX and I apprec...   \n",
      "2  I upgraded my XXXX XXXX card in XX/XX/2018 and...   \n",
      "3                                                NaN   \n",
      "4                                                NaN   \n",
      "\n",
      "                                          sub_issue consumer_consent_provided  \n",
      "0                                 Debt is not yours      Consent not provided  \n",
      "1  Didn't receive enough information to verify debt          Consent provided  \n",
      "2             Problem with rewards from credit card          Consent provided  \n",
      "3                                              None      Consent not provided  \n",
      "4                         Charged too much interest                       N/A  \n",
      "\n",
      "[5 rows x 22 columns]\n"
     ]
    }
   ],
   "source": [
    "#Assign nan in place of blanks in the complaints column\n",
    "df['complaint'] = df['complaint'].replace('', np.nan)\n",
    "print(df.head())"
   ]
  },
  {
   "cell_type": "code",
   "execution_count": 10,
   "metadata": {
    "id": "Jfxd8VSmJrFy"
   },
   "outputs": [],
   "source": [
    "#Remove all rows where complaints column is nan\n",
    "df = df.dropna(subset=['complaint'])"
   ]
  },
  {
   "cell_type": "markdown",
   "metadata": {
    "id": "L944HZpsJrFy"
   },
   "source": [
    "## Prepare the text for topic modeling\n",
    "\n",
    "Once you have removed all the blank complaints, you need to:\n",
    "\n",
    "* Make the text lowercase\n",
    "* Remove text in square brackets\n",
    "* Remove punctuation\n",
    "* Remove words containing numbers\n",
    "\n",
    "\n",
    "Once you have done these cleaning operations you need to perform the following:\n",
    "* Lemmatize the texts\n",
    "* Extract the POS tags of the lemmatized text and remove all the words which have tags other than NN[tag == \"NN\"].\n"
   ]
  },
  {
   "cell_type": "code",
   "execution_count": 11,
   "metadata": {
    "id": "qm7SjjSkJrFz"
   },
   "outputs": [
    {
     "name": "stdout",
     "output_type": "stream",
     "text": [
      "                 _index      _type      _id  _score           tags zip_code  \\\n",
      "1   complaint-public-v2  complaint  3229299     0.0  Servicemember    319XX   \n",
      "2   complaint-public-v2  complaint  3199379     0.0           None    77069   \n",
      "10  complaint-public-v2  complaint  3233499     0.0           None    104XX   \n",
      "11  complaint-public-v2  complaint  3180294     0.0           None    750XX   \n",
      "14  complaint-public-v2  complaint  3224980     0.0           None    920XX   \n",
      "\n",
      "   complaint_id                                 issue  \\\n",
      "1       3229299       Written notification about debt   \n",
      "2       3199379    Other features, terms, or problems   \n",
      "10      3233499  Incorrect information on your report   \n",
      "11      3180294  Incorrect information on your report   \n",
      "14      3224980                   Managing an account   \n",
      "\n",
      "                date_received state  ...         company_response  \\\n",
      "1   2019-05-01T12:00:00-05:00    GA  ...  Closed with explanation   \n",
      "2   2019-04-02T12:00:00-05:00    TX  ...  Closed with explanation   \n",
      "10  2019-05-06T12:00:00-05:00    NY  ...  Closed with explanation   \n",
      "11  2019-03-14T12:00:00-05:00    TX  ...  Closed with explanation   \n",
      "14  2019-04-27T12:00:00-05:00    CA  ...  Closed with explanation   \n",
      "\n",
      "                 company submitted_via       date_sent_to_company  \\\n",
      "1   JPMORGAN CHASE & CO.           Web  2019-05-01T12:00:00-05:00   \n",
      "2   JPMORGAN CHASE & CO.           Web  2019-04-02T12:00:00-05:00   \n",
      "10  JPMORGAN CHASE & CO.           Web  2019-05-06T12:00:00-05:00   \n",
      "11  JPMORGAN CHASE & CO.           Web  2019-03-15T12:00:00-05:00   \n",
      "14  JPMORGAN CHASE & CO.           Web  2019-04-27T12:00:00-05:00   \n",
      "\n",
      "   company_public_response                                 sub_product timely  \\\n",
      "1                     None                            Credit card debt    Yes   \n",
      "2                     None  General-purpose credit card or charge card    Yes   \n",
      "10                    None              Other personal consumer report    Yes   \n",
      "11                    None                            Credit reporting    Yes   \n",
      "14                    None                            Checking account    Yes   \n",
      "\n",
      "                                            complaint  \\\n",
      "1   good morning my name is xxxx xxxx and i apprec...   \n",
      "2   i upgraded my xxxx xxxx card in  and was told ...   \n",
      "10  chase card was reported on  however fraudulent...   \n",
      "11  on  while trying to book a xxxx  xxxx  ticket ...   \n",
      "14  my grand son give me check for  i deposit it i...   \n",
      "\n",
      "                                           sub_issue consumer_consent_provided  \n",
      "1   Didn't receive enough information to verify debt          Consent provided  \n",
      "2              Problem with rewards from credit card          Consent provided  \n",
      "10               Information belongs to someone else          Consent provided  \n",
      "11               Information belongs to someone else          Consent provided  \n",
      "14      Funds not handled or disbursed as instructed          Consent provided  \n",
      "\n",
      "[5 rows x 22 columns]\n"
     ]
    }
   ],
   "source": [
    "# Clean the text and remove all the unnecessary elements.\n",
    "def preprocess_text(text):\n",
    "    text=text.lower()  #convert to lower case\n",
    "    text=re.sub(r'\\[.*?\\]', '',text) #Remove text in square brackets\n",
    "    text=text.translate(str.maketrans('', '', string.punctuation)) #Remove punctuation\n",
    "    text=re.sub(r'\\w*\\d\\w*', '', text) #Remove words with numbers\n",
    "    \n",
    "    return text\n",
    "\n",
    "df['complaint'] = df['complaint'].apply(preprocess_text)\n",
    "\n",
    "print(df.head())"
   ]
  },
  {
   "cell_type": "code",
   "execution_count": 12,
   "metadata": {},
   "outputs": [],
   "source": [
    "#Write your function to Lemmatize the texts\n",
    "nlp = spacy.load(\"en_core_web_sm\")\n",
    "\n",
    "def lemmatize_and_extract_nouns(text):\n",
    "    doc = nlp(text)\n",
    "    \n",
    "    # Lemmatize tokens and extract only nouns\n",
    "    lemmatized_nouns = []\n",
    "    for token in doc:\n",
    "        # Lemmatize token\n",
    "        lemma = token.lemma_\n",
    "        \n",
    "        # Extract only nouns (NN)\n",
    "        if token.pos_ == 'NOUN':\n",
    "            lemmatized_nouns.append(lemma)\n",
    "    \n",
    "    # Join lemmatized nouns into a string\n",
    "    lemmatized_text = ' '.join(lemmatized_nouns)\n",
    "    \n",
    "    return lemmatized_text\n",
    "\n",
    "df['lemmatized_complaint'] = df['complaint'].apply(lemmatize_and_extract_nouns)"
   ]
  },
  {
   "cell_type": "code",
   "execution_count": 13,
   "metadata": {
    "id": "uXnN7aa_JrF0"
   },
   "outputs": [
    {
     "name": "stdout",
     "output_type": "stream",
     "text": [
      "                                            complaint  \\\n",
      "1   good morning my name is xxxx xxxx and i apprec...   \n",
      "2   i upgraded my xxxx xxxx card in  and was told ...   \n",
      "10  chase card was reported on  however fraudulent...   \n",
      "11  on  while trying to book a xxxx  xxxx  ticket ...   \n",
      "14  my grand son give me check for  i deposit it i...   \n",
      "\n",
      "                                 lemmatized_complaint  \n",
      "1   morning name stop bank cardmember service debt...  \n",
      "2   xxxx card agent anniversary date agent informa...  \n",
      "10  card application identity consent service cred...  \n",
      "11  xxxx ticket offer ticket reward card informati...  \n",
      "14  son check chase account fund chase bank accoun...  \n"
     ]
    }
   ],
   "source": [
    "#Create a dataframe('df_clean') that will have only the complaints and the lemmatized complaints \n",
    "df_clean = df[['complaint', 'lemmatized_complaint']].copy()\n",
    "\n",
    "print(df_clean.head())"
   ]
  },
  {
   "cell_type": "code",
   "execution_count": 14,
   "metadata": {
    "id": "Kk7fc4DuJrF1"
   },
   "outputs": [
    {
     "name": "stdout",
     "output_type": "stream",
     "text": [
      "                                            complaint  \\\n",
      "1   good morning my name is xxxx xxxx and i apprec...   \n",
      "2   i upgraded my xxxx xxxx card in  and was told ...   \n",
      "10  chase card was reported on  however fraudulent...   \n",
      "11  on  while trying to book a xxxx  xxxx  ticket ...   \n",
      "14  my grand son give me check for  i deposit it i...   \n",
      "\n",
      "                                 lemmatized_complaint  \\\n",
      "1   morning name stop bank cardmember service debt...   \n",
      "2   xxxx card agent anniversary date agent informa...   \n",
      "10  card application identity consent service cred...   \n",
      "11  xxxx ticket offer ticket reward card informati...   \n",
      "14  son check chase account fund chase bank accoun...   \n",
      "\n",
      "                                complaint_POS_removed  \n",
      "1   morning name stop bank cardmember service debt...  \n",
      "2   card agent anniversary date agent information ...  \n",
      "10  card application identity consent service cred...  \n",
      "11  xxxx ticket ticket reward card information min...  \n",
      "14  account fund bank account money son money bank...  \n"
     ]
    }
   ],
   "source": [
    "#Extract the POS tags \n",
    "\n",
    "def pos_tag(text):\n",
    "    doc = nlp(text)\n",
    "    \n",
    "    # Lemmatize tokens and extract only nouns\n",
    "    lemmatized_nouns = []\n",
    "    for token in doc:\n",
    "        lemma = token.lemma_\n",
    "        \n",
    "        if token.pos_ == 'NOUN':\n",
    "            lemmatized_nouns.append(lemma)\n",
    "    \n",
    "    # Join lemmatized nouns into a string\n",
    "    lemmatized_text = ' '.join(lemmatized_nouns)\n",
    "    \n",
    "    return lemmatized_text\n",
    "\n",
    "#this column should contain lemmatized text with all the words removed which have tags other than NN[tag == \"NN\"].\n",
    "df_clean[\"complaint_POS_removed\"] = df_clean[\"lemmatized_complaint\"].apply(pos_tag)\n",
    "\n",
    "print(df_clean.head())"
   ]
  },
  {
   "cell_type": "code",
   "execution_count": 15,
   "metadata": {
    "id": "AjxfchvFJrF2"
   },
   "outputs": [
    {
     "data": {
      "text/html": [
       "<div>\n",
       "<style scoped>\n",
       "    .dataframe tbody tr th:only-of-type {\n",
       "        vertical-align: middle;\n",
       "    }\n",
       "\n",
       "    .dataframe tbody tr th {\n",
       "        vertical-align: top;\n",
       "    }\n",
       "\n",
       "    .dataframe thead th {\n",
       "        text-align: right;\n",
       "    }\n",
       "</style>\n",
       "<table border=\"1\" class=\"dataframe\">\n",
       "  <thead>\n",
       "    <tr style=\"text-align: right;\">\n",
       "      <th></th>\n",
       "      <th>complaint</th>\n",
       "      <th>lemmatized_complaint</th>\n",
       "      <th>complaint_POS_removed</th>\n",
       "    </tr>\n",
       "  </thead>\n",
       "  <tbody>\n",
       "    <tr>\n",
       "      <th>1</th>\n",
       "      <td>good morning my name is xxxx xxxx and i apprec...</td>\n",
       "      <td>morning name stop bank cardmember service debt...</td>\n",
       "      <td>morning name stop bank cardmember service debt...</td>\n",
       "    </tr>\n",
       "    <tr>\n",
       "      <th>2</th>\n",
       "      <td>i upgraded my xxxx xxxx card in  and was told ...</td>\n",
       "      <td>xxxx card agent anniversary date agent informa...</td>\n",
       "      <td>card agent anniversary date agent information ...</td>\n",
       "    </tr>\n",
       "    <tr>\n",
       "      <th>10</th>\n",
       "      <td>chase card was reported on  however fraudulent...</td>\n",
       "      <td>card application identity consent service cred...</td>\n",
       "      <td>card application identity consent service cred...</td>\n",
       "    </tr>\n",
       "    <tr>\n",
       "      <th>11</th>\n",
       "      <td>on  while trying to book a xxxx  xxxx  ticket ...</td>\n",
       "      <td>xxxx ticket offer ticket reward card informati...</td>\n",
       "      <td>xxxx ticket ticket reward card information min...</td>\n",
       "    </tr>\n",
       "    <tr>\n",
       "      <th>14</th>\n",
       "      <td>my grand son give me check for  i deposit it i...</td>\n",
       "      <td>son check chase account fund chase bank accoun...</td>\n",
       "      <td>account fund bank account money son money bank...</td>\n",
       "    </tr>\n",
       "    <tr>\n",
       "      <th>...</th>\n",
       "      <td>...</td>\n",
       "      <td>...</td>\n",
       "      <td>...</td>\n",
       "    </tr>\n",
       "    <tr>\n",
       "      <th>78303</th>\n",
       "      <td>after being a chase card customer for well ove...</td>\n",
       "      <td>chase card customer decade solicitation credit...</td>\n",
       "      <td>chase card customer decade solicitation credit...</td>\n",
       "    </tr>\n",
       "    <tr>\n",
       "      <th>78309</th>\n",
       "      <td>on wednesday xxxxxxxx i called chas my xxxx xx...</td>\n",
       "      <td>xxxx credit card provider claim purchase prote...</td>\n",
       "      <td>xxxx credit card provider claim purchase prote...</td>\n",
       "    </tr>\n",
       "    <tr>\n",
       "      <th>78310</th>\n",
       "      <td>i am not familiar with xxxx pay and did not un...</td>\n",
       "      <td>xxxx pay risk consumer chase bank app chase ye...</td>\n",
       "      <td>xxxx risk consumer chase year banking merchant...</td>\n",
       "    </tr>\n",
       "    <tr>\n",
       "      <th>78311</th>\n",
       "      <td>i have had flawless credit for  yrs ive had ch...</td>\n",
       "      <td>credit yrs chase credit card chase freedom pro...</td>\n",
       "      <td>credit chase credit card chase freedom balance...</td>\n",
       "    </tr>\n",
       "    <tr>\n",
       "      <th>78312</th>\n",
       "      <td>roughly  years ago i closed out my accounts wi...</td>\n",
       "      <td>year account order line credit account payment...</td>\n",
       "      <td>year account order line credit account payment...</td>\n",
       "    </tr>\n",
       "  </tbody>\n",
       "</table>\n",
       "<p>21072 rows × 3 columns</p>\n",
       "</div>"
      ],
      "text/plain": [
       "                                               complaint  \\\n",
       "1      good morning my name is xxxx xxxx and i apprec...   \n",
       "2      i upgraded my xxxx xxxx card in  and was told ...   \n",
       "10     chase card was reported on  however fraudulent...   \n",
       "11     on  while trying to book a xxxx  xxxx  ticket ...   \n",
       "14     my grand son give me check for  i deposit it i...   \n",
       "...                                                  ...   \n",
       "78303  after being a chase card customer for well ove...   \n",
       "78309  on wednesday xxxxxxxx i called chas my xxxx xx...   \n",
       "78310  i am not familiar with xxxx pay and did not un...   \n",
       "78311  i have had flawless credit for  yrs ive had ch...   \n",
       "78312  roughly  years ago i closed out my accounts wi...   \n",
       "\n",
       "                                    lemmatized_complaint  \\\n",
       "1      morning name stop bank cardmember service debt...   \n",
       "2      xxxx card agent anniversary date agent informa...   \n",
       "10     card application identity consent service cred...   \n",
       "11     xxxx ticket offer ticket reward card informati...   \n",
       "14     son check chase account fund chase bank accoun...   \n",
       "...                                                  ...   \n",
       "78303  chase card customer decade solicitation credit...   \n",
       "78309  xxxx credit card provider claim purchase prote...   \n",
       "78310  xxxx pay risk consumer chase bank app chase ye...   \n",
       "78311  credit yrs chase credit card chase freedom pro...   \n",
       "78312  year account order line credit account payment...   \n",
       "\n",
       "                                   complaint_POS_removed  \n",
       "1      morning name stop bank cardmember service debt...  \n",
       "2      card agent anniversary date agent information ...  \n",
       "10     card application identity consent service cred...  \n",
       "11     xxxx ticket ticket reward card information min...  \n",
       "14     account fund bank account money son money bank...  \n",
       "...                                                  ...  \n",
       "78303  chase card customer decade solicitation credit...  \n",
       "78309  xxxx credit card provider claim purchase prote...  \n",
       "78310  xxxx risk consumer chase year banking merchant...  \n",
       "78311  credit chase credit card chase freedom balance...  \n",
       "78312  year account order line credit account payment...  \n",
       "\n",
       "[21072 rows x 3 columns]"
      ]
     },
     "execution_count": 15,
     "metadata": {},
     "output_type": "execute_result"
    }
   ],
   "source": [
    "#clean dataframe with raw complaint, lemmatized complaint and the complaint after removing POS tags.\n",
    "df_clean"
   ]
  },
  {
   "cell_type": "markdown",
   "metadata": {
    "id": "_7Un1AElJrF2"
   },
   "source": [
    "## Exploratory data analysis to get familiar with the data.\n",
    "\n",
    "Write the code in this task to perform the following:\n",
    "\n",
    "*   Visualise the data according to the 'Complaint' character length\n",
    "*   Using a word cloud find the top 40 words by frequency among all the articles after processing the text\n",
    "*   Find the top unigrams,bigrams and trigrams by frequency among all the complaints after processing the text. ‘\n",
    "\n",
    "\n"
   ]
  },
  {
   "cell_type": "code",
   "execution_count": 16,
   "metadata": {
    "id": "q-zaqJF6JrF2"
   },
   "outputs": [
    {
     "data": {
      "text/plain": [
       "Text(0.5, 0, 'Complaint character length')"
      ]
     },
     "execution_count": 16,
     "metadata": {},
     "output_type": "execute_result"
    },
    {
     "data": {
      "image/png": "[encoded data removed]",
      "text/plain": [
       "<Figure size 1000x600 with 1 Axes>"
      ]
     },
     "metadata": {},
     "output_type": "display_data"
    }
   ],
   "source": [
    "plt.figure(figsize=(10,6))\n",
    "doc_lens = [len(d) for d in df_clean.complaint]\n",
    "plt.hist(doc_lens, bins = 100)\n",
    "plt.ylabel('Number of Complaint')\n",
    "plt.xlabel('Complaint character length')\n"
   ]
  },
  {
   "cell_type": "markdown",
   "metadata": {
    "id": "T9jD_6SeJrF3"
   },
   "source": [
    "#### Find the top 40 words by frequency among all the articles after processing the text."
   ]
  },
  {
   "cell_type": "code",
   "execution_count": 17,
   "metadata": {
    "id": "QcfdvtfZJrF3"
   },
   "outputs": [
    {
     "data": {
      "image/png": "[encoded data removed]",
      "text/plain": [
       "<Figure size 1000x600 with 1 Axes>"
      ]
     },
     "metadata": {},
     "output_type": "display_data"
    }
   ],
   "source": [
    "#Word cloud to find the top 40 words by frequency among all the articles after processing the text\n",
    "from wordcloud import STOPWORDS\n",
    "\n",
    "wordcloud = WordCloud(max_words=40, random_state=1, stopwords=set(STOPWORDS))\n",
    "wordcloud.generate(str(df_clean['complaint_POS_removed']))\n",
    "plt.figure(figsize=(10,6))\n",
    "plt.imshow(wordcloud, interpolation=\"bilinear\")\n",
    "plt.axis(\"off\")\n",
    "plt.show()"
   ]
  },
  {
   "cell_type": "code",
   "execution_count": 18,
   "metadata": {
    "id": "OkSmc3UaJrF4"
   },
   "outputs": [],
   "source": [
    "#Removing -PRON- from the text corpus\n",
    "df_clean['Complaint_clean'] = df_clean['complaint_POS_removed'].str.replace('-PRON-', '')"
   ]
  },
  {
   "cell_type": "markdown",
   "metadata": {
    "id": "5DfCSbbmJrF4"
   },
   "source": [
    "#### Find the top unigrams,bigrams and trigrams by frequency among all the complaints after processing the text."
   ]
  },
  {
   "cell_type": "code",
   "execution_count": 19,
   "metadata": {
    "id": "YX7fedm1JrF8"
   },
   "outputs": [
    {
     "name": "stdout",
     "output_type": "stream",
     "text": [
      "-------------Top 10 Unigrams----------\n",
      "chase: 43190\n",
      "account: 38866\n",
      "credit: 32045\n",
      "card: 29924\n",
      "payment: 21083\n",
      "time: 15835\n",
      "bank: 13190\n",
      "day: 12784\n",
      "money: 11330\n",
      "xxxx: 10845\n"
     ]
    }
   ],
   "source": [
    "#Write your code here to find the top 30 unigram frequency among the complaints in the cleaned datafram(df_clean). \n",
    "vectorizer = CountVectorizer(stop_words='english')\n",
    "\n",
    "# Fit and transform the 'complaint_POS_removed' column\n",
    "X = vectorizer.fit_transform(df_clean['complaint_POS_removed'])\n",
    "\n",
    "# Get feature names (unigrams)\n",
    "feature_names = vectorizer.get_feature_names_out()\n",
    "\n",
    "# Sum the occurrences of each unigram\n",
    "unigram_freq = X.toarray().sum(axis=0)\n",
    "\n",
    "# Combine feature names and frequencies\n",
    "unigram_freq_dict = dict(zip(feature_names, unigram_freq))\n",
    "\n",
    "# Sort the unigram frequencies in descending order\n",
    "sorted_unigram_freq = sorted(unigram_freq_dict.items(), key=lambda x: x[1], reverse=True)\n",
    "\n",
    "print(\"-------------Top 10 Unigrams----------\")\n",
    "for word, freq in sorted_unigram_freq[:10]:\n",
    "    print(f'{word}: {freq}')"
   ]
  },
  {
   "cell_type": "code",
   "execution_count": 20,
   "metadata": {
    "id": "aV7kD7w8JrF8"
   },
   "outputs": [
    {
     "name": "stdout",
     "output_type": "stream",
     "text": [
      "----------Top 10 Bigrams by Frequency-------\n",
      "credit card: 12813\n",
      "credit report: 3737\n",
      "chase credit: 2979\n",
      "customer service: 2973\n",
      "account account: 2677\n",
      "chase account: 2639\n",
      "account chase: 2420\n",
      "debit card: 1869\n",
      "card chase: 1755\n",
      "card account: 1730\n"
     ]
    }
   ],
   "source": [
    "# Initialize CountVectorizer to create bigrams\n",
    "vectorizer = CountVectorizer(ngram_range=(2, 2), stop_words='english')\n",
    "\n",
    "# Fit and transform the 'complaint_POS_removed' column\n",
    "X = vectorizer.fit_transform(df_clean['complaint_POS_removed'])\n",
    "\n",
    "# Get feature names\n",
    "feature_names = vectorizer.get_feature_names_out()\n",
    "\n",
    "# Sum the occurrences of each bigram\n",
    "bigram_freq = X.toarray().sum(axis=0)\n",
    "\n",
    "# Combine feature names and frequencies\n",
    "bigram_freq_dict = dict(zip(feature_names, bigram_freq))\n",
    "\n",
    "# Sort the bigram frequencies in descending order\n",
    "sorted_bigram_freq = sorted(bigram_freq_dict.items(), key=lambda x: x[1], reverse=True)\n",
    "\n",
    "# Print the top 30 bigrams by frequency\n",
    "print(\"----------Top 10 Bigrams by Frequency-------\")\n",
    "for bigram, freq in sorted_bigram_freq[:10]:\n",
    "    print(f'{bigram}: {freq}')"
   ]
  },
  {
   "cell_type": "code",
   "execution_count": 21,
   "metadata": {
    "id": "Xkh7vtbtJrF-"
   },
   "outputs": [
    {
     "name": "stdout",
     "output_type": "stream",
     "text": [
      "----------Top 10 Trigrams by Frequency-------\n",
      "chase credit card: 1957\n",
      "credit card account: 1019\n",
      "credit card company: 1003\n",
      "credit card chase: 818\n",
      "credit card credit: 616\n",
      "xxxx credit card: 553\n",
      "inquiry credit report: 523\n",
      "card credit card: 494\n",
      "account credit card: 464\n",
      "credit report credit: 405\n"
     ]
    }
   ],
   "source": [
    "#Write your code here to find the top 30 trigram frequency among the complaints in the cleaned datafram(df_clean). \n",
    "vectorizer = CountVectorizer(ngram_range=(3, 3), stop_words='english')\n",
    "\n",
    "# Fit and transform the 'complaint_POS_removed' column\n",
    "X = vectorizer.fit_transform(df_clean['complaint_POS_removed'])\n",
    "\n",
    "# Get feature names\n",
    "feature_names = vectorizer.get_feature_names_out()\n",
    "\n",
    "# Sum the occurrences of each bigram\n",
    "trigram_freq = X.toarray().sum(axis=0)\n",
    "\n",
    "# Combine feature names and frequencies\n",
    "trigram_freq_dict = dict(zip(feature_names, trigram_freq))\n",
    "\n",
    "# Sort the bigram frequencies in descending order\n",
    "sorted_trigram_freq = sorted(trigram_freq_dict.items(), key=lambda x: x[1], reverse=True)\n",
    "\n",
    "# Print the top 30 trigrams by frequency\n",
    "print(\"----------Top 10 Trigrams by Frequency-------\")\n",
    "for trigram, freq in sorted_trigram_freq[:10]:\n",
    "    print(f'{trigram}: {freq}')"
   ]
  },
  {
   "cell_type": "markdown",
   "metadata": {
    "id": "yUXzFji0JrF_"
   },
   "source": [
    "## The personal details of customer has been masked in the dataset with xxxx. Let's remove the masked text as this will be of no use for our analysis"
   ]
  },
  {
   "cell_type": "code",
   "execution_count": 22,
   "metadata": {
    "id": "wKda-a_IJrF_"
   },
   "outputs": [],
   "source": [
    "df_clean['Complaint_clean'] = df_clean['Complaint_clean'].str.replace('xxxx','')"
   ]
  },
  {
   "cell_type": "code",
   "execution_count": 23,
   "metadata": {
    "id": "9UIFk8fQJrF_"
   },
   "outputs": [
    {
     "data": {
      "text/html": [
       "<div>\n",
       "<style scoped>\n",
       "    .dataframe tbody tr th:only-of-type {\n",
       "        vertical-align: middle;\n",
       "    }\n",
       "\n",
       "    .dataframe tbody tr th {\n",
       "        vertical-align: top;\n",
       "    }\n",
       "\n",
       "    .dataframe thead th {\n",
       "        text-align: right;\n",
       "    }\n",
       "</style>\n",
       "<table border=\"1\" class=\"dataframe\">\n",
       "  <thead>\n",
       "    <tr style=\"text-align: right;\">\n",
       "      <th></th>\n",
       "      <th>complaint</th>\n",
       "      <th>lemmatized_complaint</th>\n",
       "      <th>complaint_POS_removed</th>\n",
       "      <th>Complaint_clean</th>\n",
       "    </tr>\n",
       "  </thead>\n",
       "  <tbody>\n",
       "    <tr>\n",
       "      <th>1</th>\n",
       "      <td>good morning my name is xxxx xxxx and i apprec...</td>\n",
       "      <td>morning name stop bank cardmember service debt...</td>\n",
       "      <td>morning name stop bank cardmember service debt...</td>\n",
       "      <td>morning name stop bank cardmember service debt...</td>\n",
       "    </tr>\n",
       "    <tr>\n",
       "      <th>2</th>\n",
       "      <td>i upgraded my xxxx xxxx card in  and was told ...</td>\n",
       "      <td>xxxx card agent anniversary date agent informa...</td>\n",
       "      <td>card agent anniversary date agent information ...</td>\n",
       "      <td>card agent anniversary date agent information ...</td>\n",
       "    </tr>\n",
       "    <tr>\n",
       "      <th>10</th>\n",
       "      <td>chase card was reported on  however fraudulent...</td>\n",
       "      <td>card application identity consent service cred...</td>\n",
       "      <td>card application identity consent service cred...</td>\n",
       "      <td>card application identity consent service cred...</td>\n",
       "    </tr>\n",
       "    <tr>\n",
       "      <th>11</th>\n",
       "      <td>on  while trying to book a xxxx  xxxx  ticket ...</td>\n",
       "      <td>xxxx ticket offer ticket reward card informati...</td>\n",
       "      <td>xxxx ticket ticket reward card information min...</td>\n",
       "      <td>ticket ticket reward card information minute ...</td>\n",
       "    </tr>\n",
       "    <tr>\n",
       "      <th>14</th>\n",
       "      <td>my grand son give me check for  i deposit it i...</td>\n",
       "      <td>son check chase account fund chase bank accoun...</td>\n",
       "      <td>account fund bank account money son money bank...</td>\n",
       "      <td>account fund bank account money son money bank...</td>\n",
       "    </tr>\n",
       "    <tr>\n",
       "      <th>...</th>\n",
       "      <td>...</td>\n",
       "      <td>...</td>\n",
       "      <td>...</td>\n",
       "      <td>...</td>\n",
       "    </tr>\n",
       "    <tr>\n",
       "      <th>78303</th>\n",
       "      <td>after being a chase card customer for well ove...</td>\n",
       "      <td>chase card customer decade solicitation credit...</td>\n",
       "      <td>chase card customer decade solicitation credit...</td>\n",
       "      <td>chase card customer decade solicitation credit...</td>\n",
       "    </tr>\n",
       "    <tr>\n",
       "      <th>78309</th>\n",
       "      <td>on wednesday xxxxxxxx i called chas my xxxx xx...</td>\n",
       "      <td>xxxx credit card provider claim purchase prote...</td>\n",
       "      <td>xxxx credit card provider claim purchase prote...</td>\n",
       "      <td>credit card provider claim purchase protectio...</td>\n",
       "    </tr>\n",
       "    <tr>\n",
       "      <th>78310</th>\n",
       "      <td>i am not familiar with xxxx pay and did not un...</td>\n",
       "      <td>xxxx pay risk consumer chase bank app chase ye...</td>\n",
       "      <td>xxxx risk consumer chase year banking merchant...</td>\n",
       "      <td>risk consumer chase year banking merchant mer...</td>\n",
       "    </tr>\n",
       "    <tr>\n",
       "      <th>78311</th>\n",
       "      <td>i have had flawless credit for  yrs ive had ch...</td>\n",
       "      <td>credit yrs chase credit card chase freedom pro...</td>\n",
       "      <td>credit chase credit card chase freedom balance...</td>\n",
       "      <td>credit chase credit card chase freedom balance...</td>\n",
       "    </tr>\n",
       "    <tr>\n",
       "      <th>78312</th>\n",
       "      <td>roughly  years ago i closed out my accounts wi...</td>\n",
       "      <td>year account order line credit account payment...</td>\n",
       "      <td>year account order line credit account payment...</td>\n",
       "      <td>year account order line credit account payment...</td>\n",
       "    </tr>\n",
       "  </tbody>\n",
       "</table>\n",
       "<p>21072 rows × 4 columns</p>\n",
       "</div>"
      ],
      "text/plain": [
       "                                               complaint  \\\n",
       "1      good morning my name is xxxx xxxx and i apprec...   \n",
       "2      i upgraded my xxxx xxxx card in  and was told ...   \n",
       "10     chase card was reported on  however fraudulent...   \n",
       "11     on  while trying to book a xxxx  xxxx  ticket ...   \n",
       "14     my grand son give me check for  i deposit it i...   \n",
       "...                                                  ...   \n",
       "78303  after being a chase card customer for well ove...   \n",
       "78309  on wednesday xxxxxxxx i called chas my xxxx xx...   \n",
       "78310  i am not familiar with xxxx pay and did not un...   \n",
       "78311  i have had flawless credit for  yrs ive had ch...   \n",
       "78312  roughly  years ago i closed out my accounts wi...   \n",
       "\n",
       "                                    lemmatized_complaint  \\\n",
       "1      morning name stop bank cardmember service debt...   \n",
       "2      xxxx card agent anniversary date agent informa...   \n",
       "10     card application identity consent service cred...   \n",
       "11     xxxx ticket offer ticket reward card informati...   \n",
       "14     son check chase account fund chase bank accoun...   \n",
       "...                                                  ...   \n",
       "78303  chase card customer decade solicitation credit...   \n",
       "78309  xxxx credit card provider claim purchase prote...   \n",
       "78310  xxxx pay risk consumer chase bank app chase ye...   \n",
       "78311  credit yrs chase credit card chase freedom pro...   \n",
       "78312  year account order line credit account payment...   \n",
       "\n",
       "                                   complaint_POS_removed  \\\n",
       "1      morning name stop bank cardmember service debt...   \n",
       "2      card agent anniversary date agent information ...   \n",
       "10     card application identity consent service cred...   \n",
       "11     xxxx ticket ticket reward card information min...   \n",
       "14     account fund bank account money son money bank...   \n",
       "...                                                  ...   \n",
       "78303  chase card customer decade solicitation credit...   \n",
       "78309  xxxx credit card provider claim purchase prote...   \n",
       "78310  xxxx risk consumer chase year banking merchant...   \n",
       "78311  credit chase credit card chase freedom balance...   \n",
       "78312  year account order line credit account payment...   \n",
       "\n",
       "                                         Complaint_clean  \n",
       "1      morning name stop bank cardmember service debt...  \n",
       "2      card agent anniversary date agent information ...  \n",
       "10     card application identity consent service cred...  \n",
       "11      ticket ticket reward card information minute ...  \n",
       "14     account fund bank account money son money bank...  \n",
       "...                                                  ...  \n",
       "78303  chase card customer decade solicitation credit...  \n",
       "78309   credit card provider claim purchase protectio...  \n",
       "78310   risk consumer chase year banking merchant mer...  \n",
       "78311  credit chase credit card chase freedom balance...  \n",
       "78312  year account order line credit account payment...  \n",
       "\n",
       "[21072 rows x 4 columns]"
      ]
     },
     "execution_count": 23,
     "metadata": {},
     "output_type": "execute_result"
    }
   ],
   "source": [
    "#All masked texts has been removed\n",
    "df_clean"
   ]
  },
  {
   "cell_type": "markdown",
   "metadata": {
    "id": "k-I0k0QtJrGA"
   },
   "source": [
    "## Feature Extraction\n",
    "Convert the raw texts to a matrix of TF-IDF features\n",
    "\n",
    "**max_df** is used for removing terms that appear too frequently, also known as \"corpus-specific stop words\"\n",
    "max_df = 0.95 means \"ignore terms that appear in more than 95% of the complaints\"\n",
    "\n",
    "**min_df** is used for removing terms that appear too infrequently\n",
    "min_df = 2 means \"ignore terms that appear in less than 2 complaints\""
   ]
  },
  {
   "cell_type": "code",
   "execution_count": 24,
   "metadata": {
    "id": "Y8fGwaCPJrGA"
   },
   "outputs": [],
   "source": [
    "#Write your code here to initialise the TfidfVectorizer \n",
    "\n",
    "tfidf_vectorizer = TfidfVectorizer(max_df=0.95, min_df=2, stop_words='english')"
   ]
  },
  {
   "cell_type": "markdown",
   "metadata": {
    "id": "yYzD85nTJrGA"
   },
   "source": [
    "#### Create a document term matrix using fit_transform\n",
    "\n",
    "The contents of a document term matrix are tuples of (complaint_id,token_id) tf-idf score:\n",
    "The tuples that are not there have a tf-idf score of 0"
   ]
  },
  {
   "cell_type": "code",
   "execution_count": 25,
   "metadata": {
    "id": "ffzdDpp_JrGB"
   },
   "outputs": [
    {
     "name": "stdout",
     "output_type": "stream",
     "text": [
      "TF-IDF Matrix Shape: (21072, 4812)\n",
      "First 10 Feature Names: ['aarp' 'abandonment' 'abatement' 'abbreviation' 'abide' 'ability'\n",
      " 'absence' 'absurdity' 'abundance' 'abuse']\n"
     ]
    }
   ],
   "source": [
    "#Write your code here to create the Document Term Matrix by transforming the complaints column present in df_clean.\n",
    "tfidf_matrix = tfidf_vectorizer.fit_transform(df_clean['Complaint_clean'])\n",
    "feature_names = tfidf_vectorizer.get_feature_names_out()\n",
    "\n",
    "print(\"TF-IDF Matrix Shape:\", tfidf_matrix.shape)\n",
    "print(\"First 10 Feature Names:\", feature_names[:10])"
   ]
  },
  {
   "cell_type": "markdown",
   "metadata": {
    "id": "7Q9lwvNEJrGB"
   },
   "source": [
    "## Topic Modelling using NMF\n",
    "\n",
    "Non-Negative Matrix Factorization (NMF) is an unsupervised technique so there are no labeling of topics that the model will be trained on. The way it works is that, NMF decomposes (or factorizes) high-dimensional vectors into a lower-dimensional representation. These lower-dimensional vectors are non-negative which also means their coefficients are non-negative.\n",
    "\n",
    "In this task you have to perform the following:\n",
    "\n",
    "* Find the best number of clusters \n",
    "* Apply the best number to create word clusters\n",
    "* Inspect & validate the correction of each cluster wrt the complaints \n",
    "* Correct the labels if needed \n",
    "* Map the clusters to topics/cluster names"
   ]
  },
  {
   "cell_type": "code",
   "execution_count": 26,
   "metadata": {
    "id": "amLT4omWJrGB"
   },
   "outputs": [],
   "source": [
    "from sklearn.decomposition import NMF"
   ]
  },
  {
   "cell_type": "markdown",
   "metadata": {
    "id": "0wYR1xUTJrGD"
   },
   "source": [
    "## Manual Topic Modeling\n",
    "You need to do take the trial & error approach to find the best num of topics for your NMF model.\n",
    "\n",
    "The only parameter that is required is the number of components i.e. the number of topics we want. This is the most crucial step in the whole topic modeling process and will greatly affect how good your final topics are."
   ]
  },
  {
   "cell_type": "code",
   "execution_count": 27,
   "metadata": {
    "id": "sgd2A6bhJrGD"
   },
   "outputs": [
    {
     "name": "stdout",
     "output_type": "stream",
     "text": [
      "Number of Clusters: 5\n",
      "Top 15 Words per Topic:\n",
      "Topic 0: ['account', 'money', 'check', 'bank', 'fund', 'chase', 'day', 'deposit', 'branch', 'fee', 'number', 'transaction', 'business', 'time', 'customer']\n",
      "Topic 1: ['card', 'charge', 'credit', 'chase', 'purchase', 'dispute', 'service', 'fraud', 'time', 'balance', 'transaction', 'merchant', 'company', 'fee', 'customer']\n",
      "Topic 2: ['payment', 'balance', 'month', 'fee', 'statement', 'day', 'time', 'date', 'chase', 'auto', 'credit', 'bank', 'mortgage', 'year', 'error']\n",
      "Topic 3: ['credit', 'report', 'inquiry', 'score', 'account', 'debt', 'card', 'company', 'information', 'reporting', 'identity', 'application', 'limit', 'theft', 'file']\n",
      "Topic 4: ['loan', 'mortgage', 'chase', 'home', 'modification', 'year', 'property', 'time', 'rate', 'document', 'letter', 'foreclosure', 'sale', 'information', 'process']\n"
     ]
    }
   ],
   "source": [
    "#Load your nmf_model with the n_components i.e 5\n",
    "num_topics = [5, 10, 15, 20] #write the value you want to test out\n",
    "\n",
    "\n",
    "def create_nmf_model(tfidf_matrix, num_topics=5, random_state=40):\n",
    "    # Initialize NMF with the current number of clusters\n",
    "    nmf_model = NMF(n_components=num_topics, random_state=random_state)\n",
    "        \n",
    "    # Fit the NMF model to the TF-IDF matrix\n",
    "    nmf_transformed = nmf_model.fit_transform(tfidf_matrix)\n",
    "        \n",
    "    print(f\"Number of Clusters: {num_topics}\")\n",
    "    print(\"Top 15 Words per Topic:\")\n",
    "    for i, topic in enumerate(nmf_model.components_):\n",
    "        top_words = [feature_names[j] for j in topic.argsort()[:-16:-1]]\n",
    "        print(f\"Topic {i}: {top_words}\")\n",
    "    \n",
    "    return nmf_model, nmf_transformed\n",
    "\n",
    "best_nmf_model, best_nmf_transformed = create_nmf_model(tfidf_matrix)"
   ]
  },
  {
   "cell_type": "code",
   "execution_count": 28,
   "metadata": {
    "id": "VPMDYbt_JrGE"
   },
   "outputs": [
    {
     "name": "stdout",
     "output_type": "stream",
     "text": [
      "Cluster 0: ['account', 'money', 'check', 'bank', 'fund', 'chase', 'day', 'deposit', 'branch', 'fee', 'number', 'transaction', 'business', 'time', 'customer']\n",
      "Cluster 1: ['card', 'charge', 'credit', 'chase', 'purchase', 'dispute', 'service', 'fraud', 'time', 'balance', 'transaction', 'merchant', 'company', 'fee', 'customer']\n",
      "Cluster 2: ['payment', 'balance', 'month', 'fee', 'statement', 'day', 'time', 'date', 'chase', 'auto', 'credit', 'bank', 'mortgage', 'year', 'error']\n",
      "Cluster 3: ['credit', 'report', 'inquiry', 'score', 'account', 'debt', 'card', 'company', 'information', 'reporting', 'identity', 'application', 'limit', 'theft', 'file']\n",
      "Cluster 4: ['loan', 'mortgage', 'chase', 'home', 'modification', 'year', 'property', 'time', 'rate', 'document', 'letter', 'foreclosure', 'sale', 'information', 'process']\n"
     ]
    }
   ],
   "source": [
    "# Apply the best number to create word clusters\n",
    "\n",
    "def generate_word_clusters(nmf_model, feature_names, num_words=15):\n",
    "    word_clusters = {}\n",
    "    for cluster_label, topic in enumerate(nmf_model.components_):\n",
    "        top_word_indices = topic.argsort()[:-num_words-1:-1]\n",
    "        top_words = [feature_names[i] for i in top_word_indices]\n",
    "        word_clusters[cluster_label] = top_words\n",
    "    return word_clusters\n",
    "\n",
    "# generate word clusters using the best number of clusters as follows:\n",
    "word_clusters = generate_word_clusters(best_nmf_model, feature_names)\n",
    "\n",
    "# Print the word clusters for each topic\n",
    "for cluster_label, words in word_clusters.items():\n",
    "    print(f\"Cluster {cluster_label}: {words}\")"
   ]
  },
  {
   "cell_type": "code",
   "execution_count": 29,
   "metadata": {
    "id": "0OIT7LmFJrGF"
   },
   "outputs": [],
   "source": [
    "#Create the best topic for each complaint in terms of integer value 0,1,2,3 & 4\n",
    "\n",
    "cluster_topics = {\n",
    "    0: \"Credit card / Prepaid card\",\n",
    "    1: \"Bank account services\",\n",
    "    2: \"Theft/Dispute reporting\",\n",
    "    3: \"Mortgages/loans\",\n",
    "    4: \"Others\"\n",
    "}\n",
    "\n",
    "# Assign cluster labels to the complaints in your DataFrame\n",
    "df_clean['cluster_label'] = np.argmax(best_nmf_transformed, axis=1)"
   ]
  },
  {
   "cell_type": "code",
   "execution_count": 30,
   "metadata": {},
   "outputs": [
    {
     "data": {
      "text/html": [
       "<div>\n",
       "<style scoped>\n",
       "    .dataframe tbody tr th:only-of-type {\n",
       "        vertical-align: middle;\n",
       "    }\n",
       "\n",
       "    .dataframe tbody tr th {\n",
       "        vertical-align: top;\n",
       "    }\n",
       "\n",
       "    .dataframe thead th {\n",
       "        text-align: right;\n",
       "    }\n",
       "</style>\n",
       "<table border=\"1\" class=\"dataframe\">\n",
       "  <thead>\n",
       "    <tr style=\"text-align: right;\">\n",
       "      <th></th>\n",
       "      <th>complaint</th>\n",
       "      <th>lemmatized_complaint</th>\n",
       "      <th>complaint_POS_removed</th>\n",
       "      <th>Complaint_clean</th>\n",
       "      <th>cluster_label</th>\n",
       "    </tr>\n",
       "  </thead>\n",
       "  <tbody>\n",
       "    <tr>\n",
       "      <th>1</th>\n",
       "      <td>good morning my name is xxxx xxxx and i apprec...</td>\n",
       "      <td>morning name stop bank cardmember service debt...</td>\n",
       "      <td>morning name stop bank cardmember service debt...</td>\n",
       "      <td>morning name stop bank cardmember service debt...</td>\n",
       "      <td>4</td>\n",
       "    </tr>\n",
       "    <tr>\n",
       "      <th>2</th>\n",
       "      <td>i upgraded my xxxx xxxx card in  and was told ...</td>\n",
       "      <td>xxxx card agent anniversary date agent informa...</td>\n",
       "      <td>card agent anniversary date agent information ...</td>\n",
       "      <td>card agent anniversary date agent information ...</td>\n",
       "      <td>1</td>\n",
       "    </tr>\n",
       "    <tr>\n",
       "      <th>10</th>\n",
       "      <td>chase card was reported on  however fraudulent...</td>\n",
       "      <td>card application identity consent service cred...</td>\n",
       "      <td>card application identity consent service cred...</td>\n",
       "      <td>card application identity consent service cred...</td>\n",
       "      <td>3</td>\n",
       "    </tr>\n",
       "    <tr>\n",
       "      <th>11</th>\n",
       "      <td>on  while trying to book a xxxx  xxxx  ticket ...</td>\n",
       "      <td>xxxx ticket offer ticket reward card informati...</td>\n",
       "      <td>xxxx ticket ticket reward card information min...</td>\n",
       "      <td>ticket ticket reward card information minute ...</td>\n",
       "      <td>3</td>\n",
       "    </tr>\n",
       "    <tr>\n",
       "      <th>14</th>\n",
       "      <td>my grand son give me check for  i deposit it i...</td>\n",
       "      <td>son check chase account fund chase bank accoun...</td>\n",
       "      <td>account fund bank account money son money bank...</td>\n",
       "      <td>account fund bank account money son money bank...</td>\n",
       "      <td>0</td>\n",
       "    </tr>\n",
       "  </tbody>\n",
       "</table>\n",
       "</div>"
      ],
      "text/plain": [
       "                                            complaint  \\\n",
       "1   good morning my name is xxxx xxxx and i apprec...   \n",
       "2   i upgraded my xxxx xxxx card in  and was told ...   \n",
       "10  chase card was reported on  however fraudulent...   \n",
       "11  on  while trying to book a xxxx  xxxx  ticket ...   \n",
       "14  my grand son give me check for  i deposit it i...   \n",
       "\n",
       "                                 lemmatized_complaint  \\\n",
       "1   morning name stop bank cardmember service debt...   \n",
       "2   xxxx card agent anniversary date agent informa...   \n",
       "10  card application identity consent service cred...   \n",
       "11  xxxx ticket offer ticket reward card informati...   \n",
       "14  son check chase account fund chase bank accoun...   \n",
       "\n",
       "                                complaint_POS_removed  \\\n",
       "1   morning name stop bank cardmember service debt...   \n",
       "2   card agent anniversary date agent information ...   \n",
       "10  card application identity consent service cred...   \n",
       "11  xxxx ticket ticket reward card information min...   \n",
       "14  account fund bank account money son money bank...   \n",
       "\n",
       "                                      Complaint_clean  cluster_label  \n",
       "1   morning name stop bank cardmember service debt...              4  \n",
       "2   card agent anniversary date agent information ...              1  \n",
       "10  card application identity consent service cred...              3  \n",
       "11   ticket ticket reward card information minute ...              3  \n",
       "14  account fund bank account money son money bank...              0  "
      ]
     },
     "execution_count": 30,
     "metadata": {},
     "output_type": "execute_result"
    }
   ],
   "source": [
    "df_clean.head(5)"
   ]
  },
  {
   "cell_type": "code",
   "execution_count": 31,
   "metadata": {
    "id": "peyYv-ORJrGF"
   },
   "outputs": [
    {
     "name": "stdout",
     "output_type": "stream",
     "text": [
      "(21072, 6)\n"
     ]
    }
   ],
   "source": [
    "#Assign the best topic to each of the cmplaints in Topic Column\n",
    "\n",
    "# Manual Observation based on cluster words and given topics\n",
    "# Cluster O: Topic 1:  \"Bank account services\" \n",
    "# Cluster 1: Topic 2: \"Theft/Dispute reporting\"\n",
    "# Cluster 2: Topic 4: \"Others\"\n",
    "# Cluster 3: Topic 0: \"Credit card / Prepaid card\"\n",
    "# Cluster 4: Topic 3: \"Mortgages/loans\"\n",
    "\n",
    "# Best Mapping of cluster labels to topics based on manual observation\n",
    "best_cluster_topics_mapping = {\n",
    "    0: \"Bank account services\",\n",
    "    1: \"Theft/Dispute reporting\",\n",
    "    2: \"Others\",\n",
    "    3: \"Credit card / Prepaid card\",\n",
    "    4: \"Mortgages/loans\"\n",
    "}\n",
    "\n",
    "# write your code to assign topics to each rows.\n",
    "df_clean['topic'] = df_clean['cluster_label'].map(best_cluster_topics_mapping)\n",
    "\n",
    "print(df_clean.shape)"
   ]
  },
  {
   "cell_type": "code",
   "execution_count": 32,
   "metadata": {
    "id": "fLh_Gf3nJrGF"
   },
   "outputs": [
    {
     "data": {
      "text/html": [
       "<div>\n",
       "<style scoped>\n",
       "    .dataframe tbody tr th:only-of-type {\n",
       "        vertical-align: middle;\n",
       "    }\n",
       "\n",
       "    .dataframe tbody tr th {\n",
       "        vertical-align: top;\n",
       "    }\n",
       "\n",
       "    .dataframe thead th {\n",
       "        text-align: right;\n",
       "    }\n",
       "</style>\n",
       "<table border=\"1\" class=\"dataframe\">\n",
       "  <thead>\n",
       "    <tr style=\"text-align: right;\">\n",
       "      <th></th>\n",
       "      <th>Complaint_clean</th>\n",
       "      <th>cluster_label</th>\n",
       "      <th>topic</th>\n",
       "    </tr>\n",
       "  </thead>\n",
       "  <tbody>\n",
       "    <tr>\n",
       "      <th>1</th>\n",
       "      <td>morning name stop bank cardmember service debt verification statement bank debt mail month debt information consumer chase help</td>\n",
       "      <td>4</td>\n",
       "      <td>Mortgages/loans</td>\n",
       "    </tr>\n",
       "    <tr>\n",
       "      <th>2</th>\n",
       "      <td>card agent anniversary date agent information order account anniversary date consent recording agent</td>\n",
       "      <td>1</td>\n",
       "      <td>Theft/Dispute reporting</td>\n",
       "    </tr>\n",
       "    <tr>\n",
       "      <th>10</th>\n",
       "      <td>card application identity consent service credit identity applicant</td>\n",
       "      <td>3</td>\n",
       "      <td>Credit card / Prepaid card</td>\n",
       "    </tr>\n",
       "    <tr>\n",
       "      <th>11</th>\n",
       "      <td>ticket ticket reward card information minute screen decision bank bank notification screen representative application information credit offer account statement ticket account application representative application request application chase fact credit account name credit report chase information credit report application error</td>\n",
       "      <td>3</td>\n",
       "      <td>Credit card / Prepaid card</td>\n",
       "    </tr>\n",
       "    <tr>\n",
       "      <th>14</th>\n",
       "      <td>account fund bank account money son money bank money son chase time check owner country time date check number claim number chase</td>\n",
       "      <td>0</td>\n",
       "      <td>Bank account services</td>\n",
       "    </tr>\n",
       "  </tbody>\n",
       "</table>\n",
       "</div>"
      ],
      "text/plain": [
       "                                                                                                                                                                                                                                                                                                                               Complaint_clean  \\\n",
       "1                                                                                                                                                                                                              morning name stop bank cardmember service debt verification statement bank debt mail month debt information consumer chase help   \n",
       "2                                                                                                                                                                                                                                         card agent anniversary date agent information order account anniversary date consent recording agent   \n",
       "10                                                                                                                                                                                                                                                                         card application identity consent service credit identity applicant   \n",
       "11   ticket ticket reward card information minute screen decision bank bank notification screen representative application information credit offer account statement ticket account application representative application request application chase fact credit account name credit report chase information credit report application error   \n",
       "14                                                                                                                                                                                                           account fund bank account money son money bank money son chase time check owner country time date check number claim number chase   \n",
       "\n",
       "    cluster_label                       topic  \n",
       "1               4             Mortgages/loans  \n",
       "2               1     Theft/Dispute reporting  \n",
       "10              3  Credit card / Prepaid card  \n",
       "11              3  Credit card / Prepaid card  \n",
       "14              0       Bank account services  "
      ]
     },
     "execution_count": 32,
     "metadata": {},
     "output_type": "execute_result"
    }
   ],
   "source": [
    "pd.set_option('display.max_colwidth', None)\n",
    "\n",
    "df_clean[['Complaint_clean', 'cluster_label', 'topic']].head(5)"
   ]
  },
  {
   "cell_type": "code",
   "execution_count": 37,
   "metadata": {
    "id": "aQKpufSPJrGG"
   },
   "outputs": [
    {
     "name": "stdout",
     "output_type": "stream",
     "text": [
      "(21072, 6)\n",
      "Top 5 complaints for topic Bank account services:\n",
      "\n",
      "\n",
      "my grand son give me check for  i deposit it into my chase account after fund clear my chase bank closed my account never paid me my money they said they need to speek with my grand son check was clear money was taking by my chase bank refuse to pay me my money my grand son called chase  times they told him i should call not him to verify the check owner he is out the country most the time  date happen  check number xxxx claim number is xxxx with chase\n",
      "with out notice jp morgan chase restricted my account by my debit card tuesday  on thursday  i went into a branch after being advised by a customer service representative that my account would actually be closed i went into the branch to see how i can remove the funds that are in there currently in as well as if my direct deposit from my place of employment would be returned the bank associate and the customer service representative assured me that the funds would post but they may take an additional business day that saturday i attempted to go inside of a branch yet again to retrieve my funds that actually did post on friday  upon looking at my account i realize that the funds have been reversed and no longer were present on my current statement ive been called and i was told that it may take two business day stating tuesday xxxxxxxx would be the date that my funds would be available to withdraw from a bank teller only now chase is informing me that i will be mailed a check into the three business days to recover the funds that are owed to me and left in my account currently unfortunately this has put me in an additional financial bind do two fees from late rent late car payments etc i am not being a short or giving written notice that these things will actually occur so that i have peace of mind in fact chase has handled my situation grossly i even had a bank teller inform me that my account looks suspicious after giving me a suspicious look myself although i know that chase reserves the right to close my account at any time i do believe that their protocol has been in the past to give notice in the form of a written document i am not being a shored or giving written notice that these things will actually occur so that i have peace of mind in fact chase has handled my situation grossly i even had a bank teller inform me that my account looks suspicious after giving me a suspicious look myself although i know that chase reserves the right to close my account at any time i do believe that their protocol has been in the past to give notice in the form of a written document this situation is truly affecting my livelihood and they dont seem to want to deal with me professionally thank you\n",
      "on xxxx  i made a  payment to an online retailer using chase quick pay with xxxx on the chase website i realized that this was a scam website after no confirmation product or response to any inquiries regarding the order and contacted chase to get more information about the transaction to attempt getting a refund through the retailers bank \n",
      "\n",
      "i contacted chase via a secured message on  explaining what happened and asked  is there a way to reverse this transaction or do you have a contact at xxxx that can give me more information about the recipient  that xxxx my message was reviewed and i received a response restating my original email and informing me that  the transfer has been completed however as you mentioned that the website is a scam while we can handle most inquiries by email some require the expertise of another team in order to assist you better in regards to the refund we request you to call our consumer online technical support team  i called the number listed in the email and explained my situation to then be transferred to the claims department i was directed to call xxxx and ask them about the transaction because chase did not have any information outside of what i provided when initiating the transfer i felt like this agent was trying to get me to end the call as quickly as possible and i had to interrupt her closing script to ask for a contact number at xxxx and didnt have an opportunity to get any information about what the right questions would be to ask xxxx or what words and phrases i should use to get the information i was looking for \n",
      "\n",
      "i called xxxx whos automated system initially directed me to call my bank because i used the banks app to initiate the transaction i called xxxx again to navigate their menus and talk to a customer service agent they told me that all of the information about the transaction would in chase s system because i used the banks app to perform the transaction she stayed on the line with me until i understood everything that i should ask and had a better understanding of the situation i ended the call and called chase again \n",
      "\n",
      "when i called chase the second time the agent tried to look up the information about the receiving bank but could not find any additional information she then asked me why i needed this information and i explained my situation again i was once again transferred to the claims department who told me that i needed to contact xxxx to get the information i was looking for after i told her that i had already contacted them she finally admitted that there was nothing that she could do due to the nature of the transaction and that these types of transactions are not secured she said that chase had no information about the recipient other than the email address that i inputted and that the recipients banking information was not kept in the system in both phone calls they asked if i initiated that transaction and used that to absolve themselves of all responsibility in regards to this matter \n",
      "\n",
      "during this whole process it felt like chase was not transparent about their policies regarding these types of transactions nor were they helpful in helping me get any information about the situation these transactions are advertised as a  fast safe and easy way to send money  but seem to be a dangerous way to do business i feel deceived by chase s advertising and further victimized by the way i was treated by the members on their customer service team\n",
      "mishandling of this account by chase auto and xxxx\n",
      "i opened an account with chase bank on xxxx and used a code for xxxx bonus i called to follow up on xxxxxxxx about the terms and was told everything was on the account and once i made xxxx direct deposit the bonus would be paid out in  days as of xxxx i had made the required deposits and was told my account never had the coupon code applied and it was past the  days to do so so no bonus would be paid\n",
      "==================================================\n",
      "Top 5 complaints for topic Credit card / Prepaid card:\n",
      "\n",
      "\n",
      "chase card was reported on  however fraudulent application have been submitted my identity without my consent to fraudulently obtain services do not extend credit without verifying the identity of the applicant\n",
      "on  while trying to book a xxxx  xxxx  ticket i came across an offer for  to be applied towards the ticket if i applied for a rewards card i put in my information for the offer and within less than a minute was notified via the screen that a decision could not be made i immediately contacted xxxx and was referred to chase bank i then immediately contacted chase bank within no more than  of getting the notification on the screen and i was told by the chase representative i spoke with that my application was denied but she could not state why i asked for more information about the xxxx  offer and she explained that even if i had been approved the credit offer only gets applied after the first account statement and could not be used to purchase the ticket i then explicitly told her i was glad i got denied and i was absolutely no longer interested in the account i asked that the application be withdrawn and the representative obliged this all happened no later than  after putting in the application on  notwithstanding my explicit request not to proceed with the application and contrary to what i was told by the chase representative chase did in fact go ahead to open a credit account in my name on  this is now being reported in my credit report and chase has refused to correct this information on my credit report even though they went ahead to process an application which i did not consent to and out of their error\n",
      "can you please remove inquiry\n",
      "i have a chase credit card which is incorrectly reporting data on my credit report the company is not helping resolve the issue\n",
      "i have reached out to xxxx several times in attempt to have this fraudulent inquiry removed i was told that i need to call and contact the original creditor that placed this inquiry on my report i have made several attempts to get chase bank to contact the bureau and remove this inquiry that was not authorized by me they seem to not be able to get me to the right person to take care of this issue no matter how many attempts i have made nobody seems to understand what im talkin about i want chase bank to have this fraudulent inquiry removed from my credit report before i take legal action i i have never requested any kind of credit with chase bank or hold any account with them i have an iquiry from  i want this matter resolved\n",
      "==================================================\n",
      "Top 5 complaints for topic Mortgages/loans:\n",
      "\n",
      "\n",
      "good morning my name is xxxx xxxx and i appreciate it if you could help me put a stop to chase bank cardmember services \n",
      "in  i wrote to chase asking for debt verification and what they sent me a statement which is not acceptable i am asking the bank to validate the debt instead i been receiving mail every month from them attempting to collect a debt \n",
      "i have a right to know this information as a consumer \n",
      "\n",
      "chase account  xxxx xxxx xxxx xxxx thanks in advance for your help\n",
      "jp morgan chase bank please answer the following questions    on xxxxxxxx xxxxxxxxxxxxxxxx xxxxxxxx  xxxxxxxx jpmorgan chase accessed information about me through xxxx xxxx xxxx  xxxx \n",
      "what was the valid reason for accessing my personal information through xxxx xxxx xxxx  xxxx \n",
      "\n",
      "  the chase checking account that was closed recently during xxxxxxxx had a routing or xxxx number of xxxx according to checks and statements provided to me by chase \n",
      "xxxx xxxx xxxx showed chase reporting an xxxx routing number of xxxx before and after i had disputed the xxxx number with chase \n",
      "why do these two routing numbers not match \n",
      "\n",
      "  xxxxxxxx i received a response from xxxx xxxx xxxx xxxx to a dispute about information chase was providing on my report dispute case id xxxx the information chase had been submitting was deleted due to disputed info being incomplete inaccurate or unverifiable \n",
      "is this true \n",
      "\n",
      "once again i have asked    questions \n",
      "\n",
      "i will send the cfpb copies of the information i have pertaining to the  questions in this complaint via us mail which are the xxxx xxxx xxxx xxxx reports ive received \n",
      "\n",
      "thank you for your attention and humbly await your response\n",
      "i have been trying to do a loan modification with chase and all they do is give me the runaround im  mo behind they dont let me make payments i have aens all doc in but always asking more\n",
      "i have wired through one of chase branches in xxxx xxxx the exact reinstatement amount of  to jpmorgan chase bank in order to removewithdraw their wrongful foreclosure proceedings on my residential property\n",
      "\n",
      "however the chase executive ms xxxx xxxx and its trustee xxxx xxxx xxxx xxxx are not honoring even their own rules and regulations she wants the total payoff of  now in order to remove their wrongful foreclosure proceedings with sales date of  at xxxx xxxx on my family resident\n",
      "\n",
      "she knows i can not prepare xxxx in such a short time thats why i asked for minimum reinstatement amount to avoid foreclosure without resorting to chapter xxxx bankruptcy filing\n",
      "\n",
      "i appreciate you assistant in bringing jpmorgan chase and its foreclosure trustee xxxx xxxx xxxx xxxx  quality  to their senses and stop harassing my family with their fraudulent default claim as explained in my previous complaint about them on xxxxxxxx\n",
      "\n",
      "my previous complaint id is xxxx submitted  product  mortgage issue wrongful foreclosure\n",
      "\n",
      "thank you xxxx xxxx tell   xxxx  xxxx email  xxxx xxxx\n",
      "i bought a new xxxx xxxx on xxxxxxxx from xxxx xxxx xxxx in xxxx \n",
      "i paid the loan in xxxxxxxxbut chase financial never release the title \n",
      "i contacted chase several time with no resolution each time they told me they will release it but nothing was done \n",
      "now i moved to another state and i can not get the registration in the other state because i do not have the title \n",
      "i will be obliged to rent a car since i can not use my car\n",
      "==================================================\n",
      "Top 5 complaints for topic Others:\n",
      "\n",
      "\n",
      "during the summer months i experience a decline income due to my employment therefore i request a one month payment extension with my auto loan company chase for the past almost fours years my request for payment extension is granted i have never been delinquent with my auto loan payment however on  my request for a one month payment extension was denied this year i explained my situation to representative and the supervisor with no avail after a lengthy discussion and waiting i was informed the reason for the decline as it is not  contractual  this reason for denial baffled me and therefore i emailed the office of xxxx xxxx executive director communications jpmorgan chase  co a representative contacted me and stated chase will followup about week later a representative of xxxx xxxx xxxx xxxx office called the representative shared her role was help resolve the matter the representative via conference call contacted the department handing my request after reviewing my information my request was still denied based on  policy changes  i requested an explanation and representative stated a letter will be mailed with explanation i have received xxxx letters the reason for denial was not  policy changes  i would like cfpb help in exploring the denial of my payment extension request especially since i have been clear reason for denial\n",
      "i made a purchase of  on xxxxxxxx i made payments of  on xxxxxxxx and  on xxxxxxxx the minimum payment was  the closing date was xxxxxxxx  please see attached statement  that statement  xxxxxxxx  shows that i had an outstanding purchase balance of  on xxxxxxxx i have enclosed the previous months statement to show that there were no other purchases prior to the one on xxxxxxxx \n",
      "however when i got the xxxx statement it shows that i still have a purchase balance of  i have a promotional balance xxxx  in xxxx of  in xxxx the promotional balance was   a difference of  \n",
      "\n",
      "apparently the payment  above the minimum payment required by chase  i thought would be applied to the purchase     was applied to the promotional balance first it is my understanding that once the minimum payment has been met payments in excess of the minimum would be applied to the highest interest rate balance first this is not the first time that chase has skirted us financial law to turn a larger profit i need help in rectifying this problem because my logic fell on deaf ears at chase thank you in advance for your assistance \n",
      "\n",
      "respectfully xxxx xxxx xxxx\n",
      "i recently called to ask chase bank why they reported to the credit bureau that i was  days late on a payment that was already paid off when i called i got this info  they showed that on the xxxx of  i was very late on my bill and owed xxxx to bring this balance down to xxxx and be finished with the bill i paid that amount on the same day the xxxx to being it to xxxx \n",
      "\n",
      "they say that i tried to make another payment for  later that same day and in a few days that came back as a return payment \n",
      "\n",
      "the man on the phone stated to me that if the payment went through then it would have meant that i had a credit on my account for xxxx since i didnt owe anything \n",
      "\n",
      "they updated my account with charges and late fees from the return payment that i had no idea of since i thought i paid off the entire amount they reported to the credit bureau that i was  days late for not paying what accrued to be  the guy representing chase agreed with me that they were in the wrong for charging me the fees and said they would remove them i still have  in the negative that they are saying that i owe in the mobile app \n",
      "\n",
      "additionally because they reported me being late my credit score dropped  points when i called back to ask if they can report that they made a mistake they said i would have to do that on my own i think thats xxxx\n",
      "action taken by the company between the dates of xxxxxxxx  xxxxxxxx an individual  or group of individuals  contacted chase claims and opened multiple claims that reversed payments to creditors authorized by me and then used the credited reversed funds and fees to make unauthorized transactions \n",
      "\n",
      "xxxxxxxx   claim   xxxx an unauthorized claim was made by an individual or group of individuals that retroactively reversed a payment on a personal loan to pave for  from xxxxxxxx \n",
      " claim   xxxx an unauthorized claim was made by an individual or group of individuals that retroactively reversed three payments of  made to xxxx xxxx on behalf of xxxx xxxx to pay off a credit card the date  s  of the reversed payment  s  occurred on xxxxxxxx xxxxxxxx and xxxxxxxx \n",
      "xxxxxxxx  claim   xxxx an unauthorized claim was made by an individual or group of individuals that retroactively reversed five payments of  from xxxx xxxx to xxxx xxxx to xxxx the five payments that were reversed from xxxxxxxx xxxxxxxx xxxxxxxx xxxxxxxx and xxxxxxxx \n",
      " claim   xxxx an unauthorized claim was made by an individual or group of individuals that retroactively reversed four payments to xxxx xxxx  three payments of  and one payment of  the payment dates were xxxxxxxx xxxxxxxx xxxxxxxx and xxxxxxxx \n",
      "xxxxxxxx  claim   xxxx an unauthorized claim was made by an individual or group of individuals that retroactively reversed an authorized hoa payment to xxxx xxxx xxxx xxxx dues a payment in the amount of  was reversed from xxxxxxxx \n",
      " claim   xxxx an unauthorized claim was made by an individual or group of individuals that retroactively reversed three payments made to xxxx in the amount of  from xxxxxxxx xxxxxxxx and xxxxxxxx \n",
      " claim   xxxx an unauthorized claim was made by an individual or group of individuals that retroactively reversed two payments made to xxxx in the amount of  from xxxxxxxx and xxxxxxxx \n",
      " claim   xxxx an unauthorized claim was made by an individual or group of individuals that retroactively reversed two payments made xxxx xxxx in the amount of  from xxxxxxxx and xxxxxxxx \n",
      "xxxxxxxx  claim   xxxx an unauthorized claim was made by an individual or group of individuals that retroactively reversed a payment to xxxx in the amount of  from xxxxxxxx \n",
      "two payments were reversed from xxxx xxxx in the amount of  from xxxxxxxx and xxxxxxxx two payments were also reversed from xxxx in the amount of  from xxxxxxxx and xxxxxxxx finally a payment was reversed from xxxx xxxx xxxx in the amount of  \n",
      "xxxxxxxx claim   xxxx i made a claim in the branch that was advised by a customer service representative \n",
      "this advice was made when i went to close out an account after receiving a phishing email it was then found that my debit card had been use to make multiple transactions totaling  between xxxxxxxx and xxxxxxxx actions i have personally taken to resolve the issue xxxxxxxx after beginning to receive claims paperwork i immediately notified chase claims department the first claims specialist i spoke with was very rude she kept badgering me about the final transaction on my account when i couldnt provide her the information she to call me back when i had the proper information and hung up i called back and spoke with a guy named xxxx i explained the situation to xxxx he had me verify my last know transaction after verifying my last known transaction xxxx took a look at the claims made from xxxxxxxx i advised xxxx that these were claims that i did not call in to reverse \n",
      "\n",
      "xxxxxxxx this was the  call i would make in  hours the claim s specialist once again was very rude when i called back i told the claim s specialist i would like to speak to a supervisor i was put on hold for  minutes i finally became frustrated and hung up \n",
      "\n",
      "xxxxxxxx this was the  attempt made to  attempt to  get help in recovering my money to get any answers i had to use a potential review to the xxxx xxxx xxxx about chase s claims practices and protocols i was then transferred to chase s executive office to escalate my claim it was at the executive office that i spoke with xxxx xxxx opened claim xxxx on my behalf she said once my claim was assigned to an executive office employee that person would contact me at the number on file \n",
      "\n",
      "xxxx  mid xxxx my case was assigned to xxxx in the executive office we spent roughly  weeks before either one of us spoke on the phone  although she had left a handful of voicemails i first spoke with xxxx on friday xxxxxxxx i told her about the multiple claims that were opened against an account i had since closed she claimed she only received two of the claims against the account after speaking with me she assured me she was going to  investigate  all the claims made that were made beginning at the end of xxxx on xxxxxxxx i noticed multiple payments being deducted from my chase checking account in the description all i saw were numbers on xxxxxxxx i called xxxx to see why money was being debited from my account of course all i got was xxxx s voicemail i left a message requesting a return call by xxxxxxxx i still had not received a return call i called xxxx once again because money was still being debited from my account this time i got a hold of xxxx her explanation for the debited funds was a bit odd she told me that while they were  investigating  these open claims money was still going to be debited and there was nothing she could do about it finally on xxxxxxxx i received a voicemail from xxxx to call her as soon as possible i returned her call once school was dismissed for the day it was at that point that xxxx told me they closed their  investigation  of my claims and decided not to reverse their decision when asked what research they used to complete their  investigation  xxxx became short and told me i would have to subpoena the information at that point i hung up because i felt that it was a lose lose situation\n",
      "a double payment from my chase debt cart to chase credit card posted they wont refund only put in a request and will be  days before refunded that money was for from now until tuesday when i get paid and that required me to pay them  fee to stop a pending bill payment to another payee so i atleast have  at midnight\n",
      "==================================================\n",
      "Top 5 complaints for topic Theft/Dispute reporting:\n",
      "\n",
      "\n",
      "i upgraded my xxxx xxxx card in  and was told by the agent who did the upgrade my anniversary date would not change it turned the agent was giving me the wrong information in order to upgrade the account xxxx   changed my anniversary date from xxxxxxxx to xxxxxxxx without my consent xxxx has the recording of the agent who was misled me\n",
      "my chase amazon card was declined for a catering order i had placed for my brothers funeral in the amount of  i contacted chase around noon today  and was asked the last  numbers of my chase savings account and the other user on my account i responded that i did not have a savings and i am only authorized user customer rep told me they would call me back in  minutes to keep the line open i didnt receive a call back after an hour so i contacted chase from the first call i thought someone was using my card fraudulently i spoke to the rep who transferred me to a supervisor xxxx who said the card was activated and the transaction would process called the catering company and card was declined i then used my xxxx  xxxx card to pay for the order xxxx xxxx texted me asking if i was authorizing purchase and i responded yes contacted caterer and xxxx  xxxx was declined i contacted chase again spoke to rep was told the initial questions are used to trick people to see what there answer would be she told me the cvv code was incorrectly being input by the caterer and i responded that i had gone over the numbers and cvv used was correct she told me the card was cleared for the purchase and she would monitor it for  hours called caterer  card declined use a mastercard  which processed went to use chase amazon at restaurant at xxxx pm tonight in the amount of   it was declined i was told by chase i was not over limit still frustrated figuring out multiple declines after several conversations with chase stating the card would be ok to use embarrassed as the caterer kept suggesting i was over my limit which i pay my card in full every month and chase confirmed that i was under my limit with the  transaction never been declined by either chase or xxxx  xxxx before  today after multiple assurances that i was all set and card would be monitored to make sure transaction would clear  it never did\n",
      "xxxx xxxx a sofa love seat table and chairs and was never delivered debit card charged  bank says visa denied claim we have no furniture and no money\n",
      "i made a purchase with xxxx xxxx xxxx on  in the amount of  i was charged twice for this transaction i placed a disputes case with chase bank on  when i noticed the charge on my account i called back on sunday  about the provisional credit for the charge and again on monday  i was told the charge had to post before a provisional credit could be provided i used my debt card on monday  then tried to use it again but it would not work i went to chase bank on xxxx xxxx xxxx in xxxx xxxx nevada and was told that my account was closed due to fraudulent activity i was shocked because i had not reported fraud on my account i later found out that i was being accused by the disputes department of placing a fraudulent disputes case for the duplicate charge from xxxx xxxx  xxxx i later contacted xxxx xxxx  xxxx again and was told that they did see a duplicate charge and would credit my account within     days i contacted the chase disputes department again on monday xxxxxxxx  and explained thaxxxx xxxx xxxx xxxx would credit my account and that i did not like being accused of making a fraudulent disputes claim the escalation manager did not care and told me that chase decision on closing my account was final i had been a customer of chase for xxxx   years my character has been challenged by the disputes agents and i consider this to be detrimental to my character and slander \n",
      "\n",
      "i am not seeking to keep my account open with chase but i also do not want chase reporting that they closed my checking account involuntarily \n",
      "\n",
      "once again i do not want chase to have the checking account that i had with them being reflecting on any public records as being closed as involuntary closure by chase \n",
      "\n",
      "i did nothing wrong by filing a disputes claim for the duplicate charge or any other disputes cases that were filed in the past\n",
      "i am a senior citizen that has been scammed by several companies from xxxx to xxxx i have paid over  to these time share companies and they have did nothing at all they were all misleading and i have tried to get a refund from them and my credit card i have been unsucceful i have all the information on every company that i have paid\n",
      "==================================================\n"
     ]
    }
   ],
   "source": [
    "print(df_clean.shape)\n",
    "\n",
    "#Print the first 5 Complaint for each of the Topics\n",
    "df_grouped = df_clean.groupby('topic').head(5)\n",
    "\n",
    "# Iterate over each unique topic\n",
    "for topic, group in df_grouped.groupby('topic'):\n",
    "    print(f\"Top 5 complaints for topic {topic}:\")\n",
    "    print('\\n')\n",
    "    for complaint in group['complaint']:\n",
    "        print(complaint)\n",
    "    print(\"=\" * 50)"
   ]
  },
  {
   "cell_type": "code",
   "execution_count": 38,
   "metadata": {},
   "outputs": [
    {
     "name": "stdout",
     "output_type": "stream",
     "text": [
      "(21072, 6)\n"
     ]
    }
   ],
   "source": [
    "print(df_clean.shape)"
   ]
  },
  {
   "cell_type": "markdown",
   "metadata": {
    "id": "piyLxzj6v07j"
   },
   "source": [
    "#### After evaluating the mapping, if the topics assigned are correct then assign these names to the relevant topic:\n",
    "* Bank Account services\n",
    "* Credit card or prepaid card\n",
    "* Theft/Dispute Reporting\n",
    "* Mortgage/Loan\n",
    "* Others"
   ]
  },
  {
   "cell_type": "code",
   "execution_count": 39,
   "metadata": {
    "id": "TWpwDG4RJrGG"
   },
   "outputs": [],
   "source": [
    "#Create the dictionary of Topic names and Topics\n",
    "\n",
    "Topic_Names = {\n",
    "    \"Bank account services\": 0,\n",
    "    \"Theft/Dispute reporting\": 1,\n",
    "    \"Others\": 2 ,\n",
    "    \"Credit card / Prepaid card\": 3,\n",
    "    \"Mortgages/loans\": 4 \n",
    "}\n",
    "#Replace Topics with Topic Names\n",
    "df_clean['topic'] = df_clean['topic'].map(lambda x: Topic_Names[x])"
   ]
  },
  {
   "cell_type": "code",
   "execution_count": 40,
   "metadata": {
    "id": "-2ULY5K6JrGG"
   },
   "outputs": [
    {
     "name": "stdout",
     "output_type": "stream",
     "text": [
      "(21072, 6)\n"
     ]
    }
   ],
   "source": [
    "print(df_clean.shape)"
   ]
  },
  {
   "cell_type": "markdown",
   "metadata": {
    "id": "7Mu0QBOcJrGH"
   },
   "source": [
    "## Supervised model to predict any new complaints to the relevant Topics.\n",
    "\n",
    "You have now build the model to create the topics for each complaints.Now in the below section you will use them to classify any new complaints.\n",
    "\n",
    "Since you will be using supervised learning technique we have to convert the topic names to numbers(numpy arrays only understand numbers)"
   ]
  },
  {
   "cell_type": "code",
   "execution_count": null,
   "metadata": {
    "id": "_U8J3J8wJrGH"
   },
   "outputs": [],
   "source": [
    "#Create the dictionary again of Topic names and Topics - Not needed as we have already done it above\n",
    "\n",
    "# Topic_names = {   }\n",
    "#Replace Topics with Topic Names\n",
    "# df_clean['Topic'] = df_clean['Topic'].map(Topic_names)"
   ]
  },
  {
   "cell_type": "code",
   "execution_count": 41,
   "metadata": {
    "id": "Xx-FrbkWJrGH"
   },
   "outputs": [],
   "source": [
    "#Keep the columns\"complaint_what_happened\" & \"Topic\" only in the new dataframe --> training_data\n",
    "training_data= df_clean.drop(['lemmatized_complaint', 'complaint_POS_removed', 'Complaint_clean', 'cluster_label'], axis=1)"
   ]
  },
  {
   "cell_type": "code",
   "execution_count": 42,
   "metadata": {
    "id": "lVg2pa12JrGI"
   },
   "outputs": [
    {
     "data": {
      "text/html": [
       "<div>\n",
       "<style scoped>\n",
       "    .dataframe tbody tr th:only-of-type {\n",
       "        vertical-align: middle;\n",
       "    }\n",
       "\n",
       "    .dataframe tbody tr th {\n",
       "        vertical-align: top;\n",
       "    }\n",
       "\n",
       "    .dataframe thead th {\n",
       "        text-align: right;\n",
       "    }\n",
       "</style>\n",
       "<table border=\"1\" class=\"dataframe\">\n",
       "  <thead>\n",
       "    <tr style=\"text-align: right;\">\n",
       "      <th></th>\n",
       "      <th>complaint</th>\n",
       "      <th>topic</th>\n",
       "    </tr>\n",
       "  </thead>\n",
       "  <tbody>\n",
       "    <tr>\n",
       "      <th>1</th>\n",
       "      <td>good morning my name is xxxx xxxx and i appreciate it if you could help me put a stop to chase bank cardmember services \\nin  i wrote to chase asking for debt verification and what they sent me a statement which is not acceptable i am asking the bank to validate the debt instead i been receiving mail every month from them attempting to collect a debt \\ni have a right to know this information as a consumer \\n\\nchase account  xxxx xxxx xxxx xxxx thanks in advance for your help</td>\n",
       "      <td>4</td>\n",
       "    </tr>\n",
       "    <tr>\n",
       "      <th>2</th>\n",
       "      <td>i upgraded my xxxx xxxx card in  and was told by the agent who did the upgrade my anniversary date would not change it turned the agent was giving me the wrong information in order to upgrade the account xxxx   changed my anniversary date from xxxxxxxx to xxxxxxxx without my consent xxxx has the recording of the agent who was misled me</td>\n",
       "      <td>1</td>\n",
       "    </tr>\n",
       "    <tr>\n",
       "      <th>10</th>\n",
       "      <td>chase card was reported on  however fraudulent application have been submitted my identity without my consent to fraudulently obtain services do not extend credit without verifying the identity of the applicant</td>\n",
       "      <td>3</td>\n",
       "    </tr>\n",
       "    <tr>\n",
       "      <th>11</th>\n",
       "      <td>on  while trying to book a xxxx  xxxx  ticket i came across an offer for  to be applied towards the ticket if i applied for a rewards card i put in my information for the offer and within less than a minute was notified via the screen that a decision could not be made i immediately contacted xxxx and was referred to chase bank i then immediately contacted chase bank within no more than  of getting the notification on the screen and i was told by the chase representative i spoke with that my application was denied but she could not state why i asked for more information about the xxxx  offer and she explained that even if i had been approved the credit offer only gets applied after the first account statement and could not be used to purchase the ticket i then explicitly told her i was glad i got denied and i was absolutely no longer interested in the account i asked that the application be withdrawn and the representative obliged this all happened no later than  after putting in the application on  notwithstanding my explicit request not to proceed with the application and contrary to what i was told by the chase representative chase did in fact go ahead to open a credit account in my name on  this is now being reported in my credit report and chase has refused to correct this information on my credit report even though they went ahead to process an application which i did not consent to and out of their error</td>\n",
       "      <td>3</td>\n",
       "    </tr>\n",
       "    <tr>\n",
       "      <th>14</th>\n",
       "      <td>my grand son give me check for  i deposit it into my chase account after fund clear my chase bank closed my account never paid me my money they said they need to speek with my grand son check was clear money was taking by my chase bank refuse to pay me my money my grand son called chase  times they told him i should call not him to verify the check owner he is out the country most the time  date happen  check number xxxx claim number is xxxx with chase</td>\n",
       "      <td>0</td>\n",
       "    </tr>\n",
       "    <tr>\n",
       "      <th>...</th>\n",
       "      <td>...</td>\n",
       "      <td>...</td>\n",
       "    </tr>\n",
       "    <tr>\n",
       "      <th>78303</th>\n",
       "      <td>after being a chase card customer for well over a decade was offered multiple solicitations for acquiring new credit cards with chase  all with bonus airline miles and hotel points was approved for all    new cards with no annual fee for  year after less than  months with payment always paid as agreed chase closed all my cards one of my    approved new cards was never activated but was sent to me\\n\\nchase has done harm to my credit has charged me an annual fee even though they cancelled my account failed to credit my points for both airlines and hotel failed to credit up to  for xxxx enrollment and failed to credit airline charge as agreed upon</td>\n",
       "      <td>1</td>\n",
       "    </tr>\n",
       "    <tr>\n",
       "      <th>78309</th>\n",
       "      <td>on wednesday xxxxxxxx i called chas my xxxx xxxx visa credit card provider and asked how to make a claim under their purchase protection benefit on xxxxxxxx i purchased three high school textbooks for my xxxx year old daughter because she transferred to a new school all three books were damaged when a water bottle in her backpack broke the chase representative assured me the textbooks would be covered and instructed me to file a claim at xxxx i immediately went to the website and filed the claim including uploading all of the requested paperwork which included a copy of my credit card statement copies of the three receipts and photographic evidence of the damage the website even had  books  as one of the catagories i could list as the type of item they cover and that i could make a claim on after following up repeatedly on my claim since the insurance provider failed to  review my information and contact me within  business days to outline the next steps of the process  as outlined in an email i received acknowledging my claim submission i called to complain the representative said claims are not looked at by an examiner  for eight to ten days  and then it would take  two days to actually review the claim  i responded that this information was contradictory to the information provided in writing in the email xxxx sent to me and she said that she is not an adjuster and that is how it works i then asked to speak with an adjuster and she agreed to connect me to one i was then put on hold and when she returned she said my file had  just been updated while i was on hold and that the claim was being denied because textbooks have finite lives and are undergo revision after courses end  i explained that my daughter s course had not ended and that i was told specifically by chase that my textbook purchases would be covered and was again told they were refusing my claim  by the time the call ended i received an email stating that my claim status had been updated and was being denied i find this completely outrageous and borderline fraudulent</td>\n",
       "      <td>1</td>\n",
       "    </tr>\n",
       "    <tr>\n",
       "      <th>78310</th>\n",
       "      <td>i am not familiar with xxxx pay and did not understand the great risk this provides to consumers i believed this to be safe as it was through my chase bank app i have been with chase for almost  years and trust their mobile banking and now am sadly regretful i am being told to deal with the merchant except the merchant has refused to answer my inquiries and now shut down communication the website of the said merchant looks entirely legitamite and is even using the faces of highly successful brands with individuals linked to their social media without their consent in performing research of the phone number and other associated information available through pi it is very clear this merchant is continually creating new account title holders to perpetuate this cycle of fraud furthermore as this is a non fixed voip being used i believe they are fraudulently using the identity of the real xxxx xxxx chase bank told me they wouldnt even investigate report this to xxxx or allow me to file a report or take any potential recourse for the matter there isnt even a protocol in place to address this issue yet the chase mobile app verbiage makes a point to deceptively position this app as under the branch of chase banking service and as such imply a degree of entitlement to its customer service protection protocols chase has your back which reads on the very same link as the xxxx tab  is most certainly not true this places consumers at risk when using this mobile service and does not flag the concern of chase in the slightest at minimum the risk of using xxxx on your mobile banking app must realistically be made aware to the public as it stands to be potentially devastating i have plans to file reports with all corresponding authorities as well as notify and contact the individual whose identity is being misused to inform him i also intend to urge my neighbor who works in television that the news network should perhaps present the risk of using xxxx and xxxx integrated banking apps to the public i understand fraud and scamming are overwhelming rampant but a banking mogul such as chase not having any recourse of action is simply a risk that needs to be disclosed more throughly i would not have clicked on the to link to the extent i did if i would have been better informed</td>\n",
       "      <td>3</td>\n",
       "    </tr>\n",
       "    <tr>\n",
       "      <th>78311</th>\n",
       "      <td>i have had flawless credit for  yrs ive had chase credit cards  chase freedom  specifically since xxxx with no problems ever ive done many balance transfers in my life so i have plenty of experience i recently did a balance transfer with chase freedom for   did many with other chase cards but apparently not  freeedom   when i got my first bill my minimum payment was  i was shocked i immediately called on xxxxxxxx the representative told me that the min payment was so high bc they were making me pay the  balance transfer fee  up front but my future payments would be around    of total balance  which is standard and the rate they advertise  i went to pay the next payment on xxxxxxxx  was once again shocked to see my minimum payment was  i paid it but i have been trying to work this out with chase ever since apparently the representative was wrong  i am actually expected to pay   instead of the standard   they normally charge bc that was written in my  user agreement  paperwork back in xxxxxxxx  years ago they currently charge   to everyone else in the world my other cards including chase are all   this  is an unreasonable amt to expect someone to pay for  credit card i have kids  many other bills to pay they never warned me they were so  off the charts  with their minimum payment percentage  except for my original paperwork in xxxxxxxx  they offer everyone else   terms they change their  terms  anytime it benefits them but wont budge to lower it to make this payment more affordable  reasonable so i also asked them  as soon as i found this out  to refund my  transfer fee so i could use it to transfer the balance to a different card with a more reasonable minimum payment they refused i also asked if they would transfer to my chase slate card which has   min pmt they also refused they will not work with me at all i am a responsible working person i would like to preserve my good credit i could easily transfer again to a different card but id have to pay another lump sum of  again</td>\n",
       "      <td>2</td>\n",
       "    </tr>\n",
       "    <tr>\n",
       "      <th>78312</th>\n",
       "      <td>roughly  years ago i closed out my accounts with jp morgan chase bank xxxx in order to close out an unsecured line of credit i had to pay it off i did that to close out my account roughly  payment when i closed out the accounts and now i get this late payment that showed up on my credit report after  years stating i owe close to  dollars i have never had any payment schedules or notifications in the  years because i paid it off upon calling them i am told i need to show proof i paid it off i would like to think that if indeed i had not paid it off  which i did  i would have immediately received late payment notifications i left chase bank because of some poor customer service and charges that were way out of line with the other banking institutions</td>\n",
       "      <td>2</td>\n",
       "    </tr>\n",
       "  </tbody>\n",
       "</table>\n",
       "<p>21072 rows × 2 columns</p>\n",
       "</div>"
      ],
      "text/plain": [
       "                                                                                                                                                                                                                                                                                                                                                                                                                                                                                                                                                                                                                                                                                                                                                                                                                                                                                                                                                                                                                                                                                                                                                                                                                                                                                                                                                                                                                                                                                                                                                                                                                                                                                                                                                                                                                                                                                                                                                                                                                                                                                                                                                                                                                                                                                                                                                                                      complaint  \\\n",
       "1                                                                                                                                                                                                                                                                                                                                                                                                                                                                                                                                                                                                                                                                                                                                                                                                                                                                                                                                                                                                                                                                                                                                                                                                                                                                                                                                                                                                                                                                                                                                                                                                                                                                                                                                                                                                                                                                                               good morning my name is xxxx xxxx and i appreciate it if you could help me put a stop to chase bank cardmember services \\nin  i wrote to chase asking for debt verification and what they sent me a statement which is not acceptable i am asking the bank to validate the debt instead i been receiving mail every month from them attempting to collect a debt \\ni have a right to know this information as a consumer \\n\\nchase account  xxxx xxxx xxxx xxxx thanks in advance for your help   \n",
       "2                                                                                                                                                                                                                                                                                                                                                                                                                                                                                                                                                                                                                                                                                                                                                                                                                                                                                                                                                                                                                                                                                                                                                                                                                                                                                                                                                                                                                                                                                                                                                                                                                                                                                                                                                                                                                                                                                                                                                                                                                                             i upgraded my xxxx xxxx card in  and was told by the agent who did the upgrade my anniversary date would not change it turned the agent was giving me the wrong information in order to upgrade the account xxxx   changed my anniversary date from xxxxxxxx to xxxxxxxx without my consent xxxx has the recording of the agent who was misled me   \n",
       "10                                                                                                                                                                                                                                                                                                                                                                                                                                                                                                                                                                                                                                                                                                                                                                                                                                                                                                                                                                                                                                                                                                                                                                                                                                                                                                                                                                                                                                                                                                                                                                                                                                                                                                                                                                                                                                                                                                                                                                                                                                                                                                                                                                           chase card was reported on  however fraudulent application have been submitted my identity without my consent to fraudulently obtain services do not extend credit without verifying the identity of the applicant   \n",
       "11                                                                                                                                                                                                                                                                                                                                                                                                                                                                                                                                                                                                                                                                                                                                                                                                                                                                                                    on  while trying to book a xxxx  xxxx  ticket i came across an offer for  to be applied towards the ticket if i applied for a rewards card i put in my information for the offer and within less than a minute was notified via the screen that a decision could not be made i immediately contacted xxxx and was referred to chase bank i then immediately contacted chase bank within no more than  of getting the notification on the screen and i was told by the chase representative i spoke with that my application was denied but she could not state why i asked for more information about the xxxx  offer and she explained that even if i had been approved the credit offer only gets applied after the first account statement and could not be used to purchase the ticket i then explicitly told her i was glad i got denied and i was absolutely no longer interested in the account i asked that the application be withdrawn and the representative obliged this all happened no later than  after putting in the application on  notwithstanding my explicit request not to proceed with the application and contrary to what i was told by the chase representative chase did in fact go ahead to open a credit account in my name on  this is now being reported in my credit report and chase has refused to correct this information on my credit report even though they went ahead to process an application which i did not consent to and out of their error   \n",
       "14                                                                                                                                                                                                                                                                                                                                                                                                                                                                                                                                                                                                                                                                                                                                                                                                                                                                                                                                                                                                                                                                                                                                                                                                                                                                                                                                                                                                                                                                                                                                                                                                                                                                                                                                                                                                                                                                                                                     my grand son give me check for  i deposit it into my chase account after fund clear my chase bank closed my account never paid me my money they said they need to speek with my grand son check was clear money was taking by my chase bank refuse to pay me my money my grand son called chase  times they told him i should call not him to verify the check owner he is out the country most the time  date happen  check number xxxx claim number is xxxx with chase   \n",
       "...                                                                                                                                                                                                                                                                                                                                                                                                                                                                                                                                                                                                                                                                                                                                                                                                                                                                                                                                                                                                                                                                                                                                                                                                                                                                                                                                                                                                                                                                                                                                                                                                                                                                                                                                                                                                                                                                                                                                                                                                                                                                                                                                                                                                                                                                                                                                                                                         ...   \n",
       "78303                                                                                                                                                                                                                                                                                                                                                                                                                                                                                                                                                                                                                                                                                                                                                                                                                                                                                                                                                                                                                                                                                                                                                                                                                                                                                                                                                                                                                                                                                                                                                                                                                                                                                                              after being a chase card customer for well over a decade was offered multiple solicitations for acquiring new credit cards with chase  all with bonus airline miles and hotel points was approved for all    new cards with no annual fee for  year after less than  months with payment always paid as agreed chase closed all my cards one of my    approved new cards was never activated but was sent to me\\n\\nchase has done harm to my credit has charged me an annual fee even though they cancelled my account failed to credit my points for both airlines and hotel failed to credit up to  for xxxx enrollment and failed to credit airline charge as agreed upon   \n",
       "78309                                                                                                                                                                                                                                       on wednesday xxxxxxxx i called chas my xxxx xxxx visa credit card provider and asked how to make a claim under their purchase protection benefit on xxxxxxxx i purchased three high school textbooks for my xxxx year old daughter because she transferred to a new school all three books were damaged when a water bottle in her backpack broke the chase representative assured me the textbooks would be covered and instructed me to file a claim at xxxx i immediately went to the website and filed the claim including uploading all of the requested paperwork which included a copy of my credit card statement copies of the three receipts and photographic evidence of the damage the website even had  books  as one of the catagories i could list as the type of item they cover and that i could make a claim on after following up repeatedly on my claim since the insurance provider failed to  review my information and contact me within  business days to outline the next steps of the process  as outlined in an email i received acknowledging my claim submission i called to complain the representative said claims are not looked at by an examiner  for eight to ten days  and then it would take  two days to actually review the claim  i responded that this information was contradictory to the information provided in writing in the email xxxx sent to me and she said that she is not an adjuster and that is how it works i then asked to speak with an adjuster and she agreed to connect me to one i was then put on hold and when she returned she said my file had  just been updated while i was on hold and that the claim was being denied because textbooks have finite lives and are undergo revision after courses end  i explained that my daughter s course had not ended and that i was told specifically by chase that my textbook purchases would be covered and was again told they were refusing my claim  by the time the call ended i received an email stating that my claim status had been updated and was being denied i find this completely outrageous and borderline fraudulent   \n",
       "78310  i am not familiar with xxxx pay and did not understand the great risk this provides to consumers i believed this to be safe as it was through my chase bank app i have been with chase for almost  years and trust their mobile banking and now am sadly regretful i am being told to deal with the merchant except the merchant has refused to answer my inquiries and now shut down communication the website of the said merchant looks entirely legitamite and is even using the faces of highly successful brands with individuals linked to their social media without their consent in performing research of the phone number and other associated information available through pi it is very clear this merchant is continually creating new account title holders to perpetuate this cycle of fraud furthermore as this is a non fixed voip being used i believe they are fraudulently using the identity of the real xxxx xxxx chase bank told me they wouldnt even investigate report this to xxxx or allow me to file a report or take any potential recourse for the matter there isnt even a protocol in place to address this issue yet the chase mobile app verbiage makes a point to deceptively position this app as under the branch of chase banking service and as such imply a degree of entitlement to its customer service protection protocols chase has your back which reads on the very same link as the xxxx tab  is most certainly not true this places consumers at risk when using this mobile service and does not flag the concern of chase in the slightest at minimum the risk of using xxxx on your mobile banking app must realistically be made aware to the public as it stands to be potentially devastating i have plans to file reports with all corresponding authorities as well as notify and contact the individual whose identity is being misused to inform him i also intend to urge my neighbor who works in television that the news network should perhaps present the risk of using xxxx and xxxx integrated banking apps to the public i understand fraud and scamming are overwhelming rampant but a banking mogul such as chase not having any recourse of action is simply a risk that needs to be disclosed more throughly i would not have clicked on the to link to the extent i did if i would have been better informed   \n",
       "78311                                                                                                                                                                                                                                                                                                 i have had flawless credit for  yrs ive had chase credit cards  chase freedom  specifically since xxxx with no problems ever ive done many balance transfers in my life so i have plenty of experience i recently did a balance transfer with chase freedom for   did many with other chase cards but apparently not  freeedom   when i got my first bill my minimum payment was  i was shocked i immediately called on xxxxxxxx the representative told me that the min payment was so high bc they were making me pay the  balance transfer fee  up front but my future payments would be around    of total balance  which is standard and the rate they advertise  i went to pay the next payment on xxxxxxxx  was once again shocked to see my minimum payment was  i paid it but i have been trying to work this out with chase ever since apparently the representative was wrong  i am actually expected to pay   instead of the standard   they normally charge bc that was written in my  user agreement  paperwork back in xxxxxxxx  years ago they currently charge   to everyone else in the world my other cards including chase are all   this  is an unreasonable amt to expect someone to pay for  credit card i have kids  many other bills to pay they never warned me they were so  off the charts  with their minimum payment percentage  except for my original paperwork in xxxxxxxx  they offer everyone else   terms they change their  terms  anytime it benefits them but wont budge to lower it to make this payment more affordable  reasonable so i also asked them  as soon as i found this out  to refund my  transfer fee so i could use it to transfer the balance to a different card with a more reasonable minimum payment they refused i also asked if they would transfer to my chase slate card which has   min pmt they also refused they will not work with me at all i am a responsible working person i would like to preserve my good credit i could easily transfer again to a different card but id have to pay another lump sum of  again   \n",
       "78312                                                                                                                                                                                                                                                                                                                                                                                                                                                                                                                                                                                                                                                                                                                                                                                                                                                                                                                                                                                                                                                                                                                                                                                                                                                                                                                                                                                                                                                                                                                                                                                                    roughly  years ago i closed out my accounts with jp morgan chase bank xxxx in order to close out an unsecured line of credit i had to pay it off i did that to close out my account roughly  payment when i closed out the accounts and now i get this late payment that showed up on my credit report after  years stating i owe close to  dollars i have never had any payment schedules or notifications in the  years because i paid it off upon calling them i am told i need to show proof i paid it off i would like to think that if indeed i had not paid it off  which i did  i would have immediately received late payment notifications i left chase bank because of some poor customer service and charges that were way out of line with the other banking institutions   \n",
       "\n",
       "       topic  \n",
       "1          4  \n",
       "2          1  \n",
       "10         3  \n",
       "11         3  \n",
       "14         0  \n",
       "...      ...  \n",
       "78303      1  \n",
       "78309      1  \n",
       "78310      3  \n",
       "78311      2  \n",
       "78312      2  \n",
       "\n",
       "[21072 rows x 2 columns]"
      ]
     },
     "execution_count": 42,
     "metadata": {},
     "output_type": "execute_result"
    }
   ],
   "source": [
    "training_data"
   ]
  },
  {
   "cell_type": "code",
   "execution_count": 43,
   "metadata": {},
   "outputs": [
    {
     "data": {
      "text/plain": [
       "(21072, 2)"
      ]
     },
     "execution_count": 43,
     "metadata": {},
     "output_type": "execute_result"
    }
   ],
   "source": [
    "training_data.shape"
   ]
  },
  {
   "cell_type": "markdown",
   "metadata": {
    "id": "280Vbqk-7a8M"
   },
   "source": [
    "#### Apply the supervised models on the training data created. In this process, you have to do the following:\n",
    "* Create the vector counts using Count Vectoriser\n",
    "* Transform the word vecotr to tf-idf\n",
    "* Create the train & test data using the train_test_split on the tf-idf & topics\n"
   ]
  },
  {
   "cell_type": "code",
   "execution_count": 44,
   "metadata": {
    "id": "oUlQpgkzJrGI"
   },
   "outputs": [],
   "source": [
    "#Write your code to get the Vector count\n",
    "from sklearn.feature_extraction.text import TfidfTransformer\n",
    "\n",
    "count_vect = CountVectorizer()\n",
    "X_train_counts = count_vect.fit_transform(training_data.complaint)\n",
    "\n",
    "# Write your code here to transform the word vector to tf-idf\n",
    "tfidf_transformer = TfidfTransformer()\n",
    "X_train_tfidf = tfidf_transformer.fit_transform(X_train_counts)"
   ]
  },
  {
   "cell_type": "markdown",
   "metadata": {
    "id": "uMU3vj6w-wqL"
   },
   "source": [
    "You have to try atleast 3 models on the train & test data from these options:\n",
    "* Logistic regression\n",
    "* Decision Tree\n",
    "* Random Forest\n",
    "* Naive Bayes (optional)\n",
    "\n",
    "**Using the required evaluation metrics judge the tried models and select the ones performing the best**"
   ]
  },
  {
   "cell_type": "code",
   "execution_count": 45,
   "metadata": {
    "id": "udLHpPsZJrGI"
   },
   "outputs": [],
   "source": [
    "# Write your code here to build any 3 models and evaluate them using the required metrics\n",
    "from sklearn.model_selection import train_test_split\n",
    "from sklearn.linear_model import LogisticRegression\n",
    "from sklearn.tree import DecisionTreeClassifier\n",
    "from sklearn.ensemble import RandomForestClassifier\n",
    "from sklearn.naive_bayes import GaussianNB\n",
    "\n",
    "from sklearn.metrics import classification_report"
   ]
  },
  {
   "cell_type": "code",
   "execution_count": 46,
   "metadata": {
    "id": "N2OznsObJrGP"
   },
   "outputs": [],
   "source": [
    "X_train, X_test, y_train, y_test = train_test_split(X_train_tfidf, training_data.topic, test_size=0.2, random_state=42)"
   ]
  },
  {
   "cell_type": "code",
   "execution_count": 47,
   "metadata": {},
   "outputs": [
    {
     "name": "stdout",
     "output_type": "stream",
     "text": [
      "              precision    recall  f1-score   support\n",
      "\n",
      "           0       0.90      0.94      0.92      1153\n",
      "           1       0.91      0.95      0.93      1251\n",
      "           2       0.97      0.83      0.90       512\n",
      "           3       0.93      0.86      0.89       553\n",
      "           4       0.91      0.91      0.91       746\n",
      "\n",
      "    accuracy                           0.92      4215\n",
      "   macro avg       0.92      0.90      0.91      4215\n",
      "weighted avg       0.92      0.92      0.92      4215\n",
      "\n"
     ]
    }
   ],
   "source": [
    "# Logistic Regression\n",
    "lr = LogisticRegression(max_iter=1000).fit(X_train, y_train)\n",
    "predicted = lr.predict(X_test)\n",
    "\n",
    "print(classification_report(y_true=y_test, y_pred=predicted))"
   ]
  },
  {
   "cell_type": "code",
   "execution_count": 48,
   "metadata": {},
   "outputs": [
    {
     "name": "stdout",
     "output_type": "stream",
     "text": [
      "              precision    recall  f1-score   support\n",
      "\n",
      "           0       0.80      0.82      0.81      1153\n",
      "           1       0.81      0.83      0.82      1251\n",
      "           2       0.76      0.73      0.75       512\n",
      "           3       0.76      0.74      0.75       553\n",
      "           4       0.82      0.79      0.80       746\n",
      "\n",
      "    accuracy                           0.80      4215\n",
      "   macro avg       0.79      0.78      0.79      4215\n",
      "weighted avg       0.79      0.80      0.79      4215\n",
      "\n"
     ]
    }
   ],
   "source": [
    "# Decision tree classifier\n",
    "dt = DecisionTreeClassifier().fit(X_train, y_train)\n",
    "predicted = dt.predict(X_test)\n",
    "\n",
    "print(classification_report(y_pred=predicted, y_true=y_test))"
   ]
  },
  {
   "cell_type": "code",
   "execution_count": 49,
   "metadata": {},
   "outputs": [
    {
     "name": "stdout",
     "output_type": "stream",
     "text": [
      "              precision    recall  f1-score   support\n",
      "\n",
      "           0       0.72      0.86      0.78      1153\n",
      "           1       0.54      0.94      0.69      1251\n",
      "           2       0.96      0.05      0.10       512\n",
      "           3       1.00      0.14      0.25       553\n",
      "           4       0.86      0.64      0.73       746\n",
      "\n",
      "    accuracy                           0.65      4215\n",
      "   macro avg       0.82      0.53      0.51      4215\n",
      "weighted avg       0.76      0.65      0.59      4215\n",
      "\n"
     ]
    }
   ],
   "source": [
    "# Random Forest Classifier\n",
    "rfc = RandomForestClassifier(max_depth=10)\n",
    "rfc.fit(X_train, y_train)\n",
    "predicted = rfc.predict(X_test)\n",
    "\n",
    "print(classification_report(y_pred=predicted, y_true=y_test))"
   ]
  },
  {
   "cell_type": "code",
   "execution_count": 50,
   "metadata": {},
   "outputs": [
    {
     "data": {
      "text/html": [
       "<div>\n",
       "<style scoped>\n",
       "    .dataframe tbody tr th:only-of-type {\n",
       "        vertical-align: middle;\n",
       "    }\n",
       "\n",
       "    .dataframe tbody tr th {\n",
       "        vertical-align: top;\n",
       "    }\n",
       "\n",
       "    .dataframe thead th {\n",
       "        text-align: right;\n",
       "    }\n",
       "</style>\n",
       "<table border=\"1\" class=\"dataframe\">\n",
       "  <thead>\n",
       "    <tr style=\"text-align: right;\">\n",
       "      <th></th>\n",
       "      <th>complaints</th>\n",
       "    </tr>\n",
       "  </thead>\n",
       "  <tbody>\n",
       "    <tr>\n",
       "      <th>0</th>\n",
       "      <td>Agent forced me to take insurance for my personal home loan</td>\n",
       "    </tr>\n",
       "    <tr>\n",
       "      <th>1</th>\n",
       "      <td>I got a scam call asking for my CVV.</td>\n",
       "    </tr>\n",
       "    <tr>\n",
       "      <th>2</th>\n",
       "      <td>How to open a salary account. Please provide me the procedure.</td>\n",
       "    </tr>\n",
       "    <tr>\n",
       "      <th>3</th>\n",
       "      <td>Yesterday, I received a fraudulent email regarding renewal of my services.</td>\n",
       "    </tr>\n",
       "    <tr>\n",
       "      <th>4</th>\n",
       "      <td>What is the procedure to know my CIBIL score?</td>\n",
       "    </tr>\n",
       "    <tr>\n",
       "      <th>5</th>\n",
       "      <td>How many branches are there for the bank in Bengaluru.</td>\n",
       "    </tr>\n",
       "  </tbody>\n",
       "</table>\n",
       "</div>"
      ],
      "text/plain": [
       "                                                                   complaints\n",
       "0                 Agent forced me to take insurance for my personal home loan\n",
       "1                                        I got a scam call asking for my CVV.\n",
       "2              How to open a salary account. Please provide me the procedure.\n",
       "3  Yesterday, I received a fraudulent email regarding renewal of my services.\n",
       "4                               What is the procedure to know my CIBIL score?\n",
       "5                      How many branches are there for the bank in Bengaluru."
      ]
     },
     "execution_count": 50,
     "metadata": {},
     "output_type": "execute_result"
    }
   ],
   "source": [
    "df_complaints = pd.DataFrame({'complaints': [\"Agent forced me to take insurance for my personal home loan\", \n",
    "                                  \"I got a scam call asking for my CVV.\",\n",
    "                                  \"How to open a salary account. Please provide me the procedure.\",\n",
    "                                  \"Yesterday, I received a fraudulent email regarding renewal of my services.\",\n",
    "                                  \"What is the procedure to know my CIBIL score?\",\n",
    "                                  \"How many branches are there for the bank in Bengaluru.\"]})\n",
    "df_complaints"
   ]
  },
  {
   "cell_type": "code",
   "execution_count": 51,
   "metadata": {},
   "outputs": [],
   "source": [
    "def predict_lr(text):\n",
    "    Topic_names = { \n",
    "                    0: \"Bank account services\", \n",
    "                    1: \"Theft/Dispute reporting\", \n",
    "                    2: \"Others\", \n",
    "                    3: \"Credit card / Prepaid card\",\n",
    "                    4: \"Mortgages/loans\"\n",
    "                }\n",
    "    X_new_counts = count_vect.transform(text)\n",
    "    X_new_tfidf = tfidf_transformer.transform(X_new_counts)\n",
    "    predicted = lr.predict(X_new_tfidf)\n",
    "    return Topic_names[predicted[0]]"
   ]
  },
  {
   "cell_type": "code",
   "execution_count": 52,
   "metadata": {},
   "outputs": [
    {
     "data": {
      "text/html": [
       "<div>\n",
       "<style scoped>\n",
       "    .dataframe tbody tr th:only-of-type {\n",
       "        vertical-align: middle;\n",
       "    }\n",
       "\n",
       "    .dataframe tbody tr th {\n",
       "        vertical-align: top;\n",
       "    }\n",
       "\n",
       "    .dataframe thead th {\n",
       "        text-align: right;\n",
       "    }\n",
       "</style>\n",
       "<table border=\"1\" class=\"dataframe\">\n",
       "  <thead>\n",
       "    <tr style=\"text-align: right;\">\n",
       "      <th></th>\n",
       "      <th>complaints</th>\n",
       "      <th>tag</th>\n",
       "    </tr>\n",
       "  </thead>\n",
       "  <tbody>\n",
       "    <tr>\n",
       "      <th>0</th>\n",
       "      <td>Agent forced me to take insurance for my personal home loan</td>\n",
       "      <td>Mortgages/loans</td>\n",
       "    </tr>\n",
       "    <tr>\n",
       "      <th>1</th>\n",
       "      <td>I got a scam call asking for my CVV.</td>\n",
       "      <td>Theft/Dispute reporting</td>\n",
       "    </tr>\n",
       "    <tr>\n",
       "      <th>2</th>\n",
       "      <td>How to open a salary account. Please provide me the procedure.</td>\n",
       "      <td>Bank account services</td>\n",
       "    </tr>\n",
       "    <tr>\n",
       "      <th>3</th>\n",
       "      <td>Yesterday, I received a fraudulent email regarding renewal of my services.</td>\n",
       "      <td>Theft/Dispute reporting</td>\n",
       "    </tr>\n",
       "    <tr>\n",
       "      <th>4</th>\n",
       "      <td>What is the procedure to know my CIBIL score?</td>\n",
       "      <td>Credit card / Prepaid card</td>\n",
       "    </tr>\n",
       "    <tr>\n",
       "      <th>5</th>\n",
       "      <td>How many branches are there for the bank in Bengaluru.</td>\n",
       "      <td>Bank account services</td>\n",
       "    </tr>\n",
       "  </tbody>\n",
       "</table>\n",
       "</div>"
      ],
      "text/plain": [
       "                                                                   complaints  \\\n",
       "0                 Agent forced me to take insurance for my personal home loan   \n",
       "1                                        I got a scam call asking for my CVV.   \n",
       "2              How to open a salary account. Please provide me the procedure.   \n",
       "3  Yesterday, I received a fraudulent email regarding renewal of my services.   \n",
       "4                               What is the procedure to know my CIBIL score?   \n",
       "5                      How many branches are there for the bank in Bengaluru.   \n",
       "\n",
       "                          tag  \n",
       "0             Mortgages/loans  \n",
       "1     Theft/Dispute reporting  \n",
       "2       Bank account services  \n",
       "3     Theft/Dispute reporting  \n",
       "4  Credit card / Prepaid card  \n",
       "5       Bank account services  "
      ]
     },
     "execution_count": 52,
     "metadata": {},
     "output_type": "execute_result"
    }
   ],
   "source": [
    "df_complaints['tag'] = df_complaints['complaints'].apply(lambda x: predict_lr([x]))\n",
    "df_complaints"
   ]
  },
  {
   "cell_type": "code",
   "execution_count": null,
   "metadata": {},
   "outputs": [],
   "source": []
  }
 ],
 "metadata": {
  "colab": {
   "collapsed_sections": [
    "T9jD_6SeJrF3",
    "5DfCSbbmJrF4",
    "yYzD85nTJrGA",
    "piyLxzj6v07j",
    "280Vbqk-7a8M"
   ],
   "provenance": []
  },
  "kernelspec": {
   "display_name": "Python 3 (ipykernel)",
   "language": "python",
   "name": "python3"
  },
  "language_info": {
   "codemirror_mode": {
    "name": "ipython",
    "version": 3
   },
   "file_extension": ".py",
   "mimetype": "text/x-python",
   "name": "python",
   "nbconvert_exporter": "python",
   "pygments_lexer": "ipython3",
   "version": "3.10.9"
  }
 },
 "nbformat": 4,
 "nbformat_minor": 1
}
